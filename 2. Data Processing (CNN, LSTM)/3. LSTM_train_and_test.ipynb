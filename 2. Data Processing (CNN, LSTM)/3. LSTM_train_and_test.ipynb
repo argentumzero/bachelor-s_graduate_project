{
 "cells": [
  {
   "cell_type": "code",
   "execution_count": 4,
   "id": "dac739a2",
   "metadata": {},
   "outputs": [],
   "source": [
    "'''В данной программе объединены обучение и предсказание на автоэнкодере LSTM.\n",
    "Отличие от CNN в проектировании: для обучения производится преобразование множества коэффициентов аномальности\n",
    "к распределнному значению со средним 0 и стандартным отклонением 1, на малых коэффициентах отклонение\n",
    "не будет слишком высоким и будет варьироваться от [-1;1] или в окрестности крайних точек.\n",
    "Когда то же распределение применяется к аномальным данным, получается, что отклонение будет сильно превышать\n",
    "значение самой дальней точки.\n",
    "Подготовка данных будет включать в себя разделение на множество X и множество Y для обучающего и тестового наборов.\n",
    "В множестве X находятся вектора со значениями коэффициентов, каждый вектор имеет длину 15, каждому такому вектору соответсвует\n",
    "число из множества Y, которое будет являться ожидаемым продолжением последовательности.\n",
    "После обучения на данных с низким коэффициентом аномальности, средняя абсолютная ошибка для нормальных\n",
    "данных составила 0.3, это значение было принято за порог нормы.\n",
    "Далее были повторены все те же самые операции и для тестового датасета, после чего по нему был сделан предикт.\n",
    "В результате получилось, что средняя абсолютная ошибка для всех аномальных записей превысила порог в несколько раз.\n",
    "Результат работы представлен в таком виде для иллюстративности работы программы.'''\n",
    "import numpy as np\n",
    "from tensorflow.keras.models import Sequential\n",
    "from tensorflow.keras.layers import LSTM, Input, Dropout\n",
    "from tensorflow.keras.layers import Dense\n",
    "from tensorflow.keras.layers import RepeatVector\n",
    "from tensorflow.keras.layers import TimeDistributed\n",
    "import pandas as pd\n",
    "from matplotlib import pyplot as plt\n",
    "from sklearn.preprocessing import MinMaxScaler, StandardScaler\n",
    "from tensorflow.keras.models import Model\n",
    "import seaborn as sns"
   ]
  },
  {
   "cell_type": "code",
   "execution_count": 5,
   "id": "29fa6a7e",
   "metadata": {},
   "outputs": [],
   "source": [
    "dataframe = pd.read_csv('B:\\Учёба\\диплом\\трафик\\For_lstm.csv')"
   ]
  },
  {
   "cell_type": "code",
   "execution_count": 7,
   "id": "9e994546",
   "metadata": {},
   "outputs": [],
   "source": [
    "df = dataframe[['time', 'expect']]"
   ]
  },
  {
   "cell_type": "code",
   "execution_count": 8,
   "id": "4ca23fae",
   "metadata": {},
   "outputs": [
    {
     "name": "stderr",
     "output_type": "stream",
     "text": [
      "<ipython-input-8-868b21c5d106>:1: SettingWithCopyWarning: \n",
      "A value is trying to be set on a copy of a slice from a DataFrame.\n",
      "Try using .loc[row_indexer,col_indexer] = value instead\n",
      "\n",
      "See the caveats in the documentation: https://pandas.pydata.org/pandas-docs/stable/user_guide/indexing.html#returning-a-view-versus-a-copy\n",
      "  df['time'] = pd.DataFrame(df['time'])\n"
     ]
    }
   ],
   "source": [
    "df['time'] = pd.DataFrame(df['time'])"
   ]
  },
  {
   "cell_type": "code",
   "execution_count": 11,
   "id": "a7e123a6",
   "metadata": {},
   "outputs": [],
   "source": [
    "train, test = df.loc[:10000,:], df.loc[52000:,:]\n",
    "\n",
    "scaler = StandardScaler()\n",
    "scaler = scaler.fit(train[['expect']])\n",
    "\n",
    "train['expect'] = scaler.transform(train[['expect']])\n",
    "test['expect'] = scaler.transform(test[['expect']])"
   ]
  },
  {
   "cell_type": "code",
   "execution_count": 18,
   "id": "932bc6ae",
   "metadata": {},
   "outputs": [],
   "source": [
    "seq_size = 15 \n",
    "\n",
    "def to_sequences(x, y, seq_size=1):\n",
    "    x_values = []\n",
    "    y_values = []\n",
    "\n",
    "    for i in range(len(x)-seq_size):\n",
    "        x_values.append(x.iloc[i:(i+seq_size)].values)\n",
    "        y_values.append(y.iloc[i+seq_size])\n",
    "        \n",
    "    return np.array(x_values), np.array(y_values)\n",
    "\n",
    "trainX, trainY = to_sequences(train[['expect']], train['expect'], seq_size)\n",
    "testX, testY = to_sequences(test[['expect']], test['expect'], seq_size)"
   ]
  },
  {
   "cell_type": "code",
   "execution_count": 21,
   "id": "f27e9fd8",
   "metadata": {},
   "outputs": [
    {
     "name": "stdout",
     "output_type": "stream",
     "text": [
      "Model: \"sequential\"\n",
      "_________________________________________________________________\n",
      "Layer (type)                 Output Shape              Param #   \n",
      "=================================================================\n",
      "lstm (LSTM)                  (None, 128)               66560     \n",
      "_________________________________________________________________\n",
      "dropout (Dropout)            (None, 128)               0         \n",
      "_________________________________________________________________\n",
      "repeat_vector (RepeatVector) (None, 15, 128)           0         \n",
      "_________________________________________________________________\n",
      "lstm_1 (LSTM)                (None, 15, 128)           131584    \n",
      "_________________________________________________________________\n",
      "dropout_1 (Dropout)          (None, 15, 128)           0         \n",
      "_________________________________________________________________\n",
      "time_distributed (TimeDistri (None, 15, 1)             129       \n",
      "=================================================================\n",
      "Total params: 198,273\n",
      "Trainable params: 198,273\n",
      "Non-trainable params: 0\n",
      "_________________________________________________________________\n"
     ]
    }
   ],
   "source": [
    "model = Sequential()\n",
    "model.add(LSTM(128, input_shape=(trainX.shape[1], trainX.shape[2])))\n",
    "model.add(Dropout(rate=0.2))\n",
    "model.add(RepeatVector(trainX.shape[1]))\n",
    "model.add(LSTM(128, return_sequences=True))\n",
    "model.add(Dropout(rate=0.2))\n",
    "model.add(TimeDistributed(Dense(trainX.shape[2])))\n",
    "model.compile(optimizer='adam', loss='mae')\n",
    "model.summary()"
   ]
  },
  {
   "cell_type": "code",
   "execution_count": 22,
   "id": "43e2d3cd",
   "metadata": {},
   "outputs": [
    {
     "name": "stdout",
     "output_type": "stream",
     "text": [
      "Epoch 1/10\n",
      "281/281 [==============================] - 19s 43ms/step - loss: 0.5209 - val_loss: 0.3333\n",
      "Epoch 2/10\n",
      "281/281 [==============================] - 11s 38ms/step - loss: 0.3453 - val_loss: 0.3259\n",
      "Epoch 3/10\n",
      "281/281 [==============================] - 11s 38ms/step - loss: 0.3284 - val_loss: 0.3240\n",
      "Epoch 4/10\n",
      "281/281 [==============================] - 11s 38ms/step - loss: 0.3227 - val_loss: 0.3069\n",
      "Epoch 5/10\n",
      "281/281 [==============================] - 11s 38ms/step - loss: 0.3228 - val_loss: 0.3152\n",
      "Epoch 6/10\n",
      "281/281 [==============================] - 11s 38ms/step - loss: 0.3212 - val_loss: 0.3259\n",
      "Epoch 7/10\n",
      "281/281 [==============================] - 11s 38ms/step - loss: 0.3289 - val_loss: 0.3278\n",
      "Epoch 8/10\n",
      "281/281 [==============================] - 11s 38ms/step - loss: 0.3267 - val_loss: 0.3332\n",
      "Epoch 9/10\n",
      "281/281 [==============================] - 11s 39ms/step - loss: 0.3270 - val_loss: 0.3272\n",
      "Epoch 10/10\n",
      "281/281 [==============================] - 11s 38ms/step - loss: 0.3148 - val_loss: 0.3175\n"
     ]
    }
   ],
   "source": [
    "history = model.fit(trainX, trainY, epochs=10, batch_size=32, validation_split=0.1, verbose=1)"
   ]
  },
  {
   "cell_type": "code",
   "execution_count": 23,
   "id": "66945c5f",
   "metadata": {},
   "outputs": [
    {
     "data": {
      "text/plain": [
       "<matplotlib.legend.Legend at 0x19fe9a62b20>"
      ]
     },
     "execution_count": 23,
     "metadata": {},
     "output_type": "execute_result"
    },
    {
     "data": {
      "image/png": "[encoded data removed]",
      "text/plain": [
       "<Figure size 432x288 with 1 Axes>"
      ]
     },
     "metadata": {
      "needs_background": "light"
     },
     "output_type": "display_data"
    }
   ],
   "source": [
    "plt.plot(history.history['loss'], label='Training loss')\n",
    "plt.plot(history.history['val_loss'], label='Validation loss')\n",
    "plt.legend()"
   ]
  },
  {
   "cell_type": "code",
   "execution_count": 24,
   "id": "39963aa4",
   "metadata": {},
   "outputs": [
    {
     "data": {
      "image/png": "[encoded data removed]",
      "text/plain": [
       "<Figure size 432x288 with 1 Axes>"
      ]
     },
     "metadata": {
      "needs_background": "light"
     },
     "output_type": "display_data"
    }
   ],
   "source": [
    "trainPredict = model.predict(trainX)\n",
    "trainMAE = np.mean(np.abs(trainPredict - trainX), axis=1)\n",
    "plt.hist(trainMAE, bins=20)\n",
    "max_trainMAE = 0.3"
   ]
  },
  {
   "cell_type": "code",
   "execution_count": 27,
   "id": "f540fe09",
   "metadata": {},
   "outputs": [
    {
     "data": {
      "text/plain": [
       "(array([ 31.,  12., 103.,  96.,  96., 154., 175., 179., 219., 218., 298.,\n",
       "        157., 138., 109.,  75.,  44.,  57.,  23.,  27.,  25.,  15.,  19.,\n",
       "         12.,  11.,  13.,   0.,   1.,   1.,   1.,   2.]),\n",
       " array([15.54068606, 15.78088177, 16.02107748, 16.26127319, 16.5014689 ,\n",
       "        16.74166461, 16.98186032, 17.22205603, 17.46225174, 17.70244745,\n",
       "        17.94264316, 18.18283887, 18.42303458, 18.66323029, 18.903426  ,\n",
       "        19.1436217 , 19.38381741, 19.62401312, 19.86420883, 20.10440454,\n",
       "        20.34460025, 20.58479596, 20.82499167, 21.06518738, 21.30538309,\n",
       "        21.5455788 , 21.78577451, 22.02597022, 22.26616593, 22.50636164,\n",
       "        22.74655734]),\n",
       " <BarContainer object of 30 artists>)"
      ]
     },
     "execution_count": 27,
     "metadata": {},
     "output_type": "execute_result"
    },
    {
     "data": {
      "image/png": "[encoded data removed]",
      "text/plain": [
       "<Figure size 432x288 with 1 Axes>"
      ]
     },
     "metadata": {
      "needs_background": "light"
     },
     "output_type": "display_data"
    }
   ],
   "source": [
    "testPredict = model.predict(testX)\n",
    "testMAE = np.mean(np.abs(testPredict - testX), axis=1)\n",
    "plt.hist(testMAE, bins=30)"
   ]
  },
  {
   "cell_type": "code",
   "execution_count": 28,
   "id": "16064f7b",
   "metadata": {},
   "outputs": [],
   "source": [
    "anomaly_df = pd.DataFrame(test[seq_size:])\n",
    "anomaly_df['testMAE'] = testMAE\n",
    "anomaly_df['max_trainMAE'] = max_trainMAE\n",
    "anomaly_df['anomaly'] = anomaly_df['testMAE'] > anomaly_df['max_trainMAE']\n",
    "anomaly_df['expect'] = test[seq_size:]['expect']\n",
    "anomalies = anomaly_df.loc[anomaly_df['anomaly'] == True]"
   ]
  },
  {
   "cell_type": "code",
   "execution_count": 32,
   "id": "b6472743",
   "metadata": {},
   "outputs": [],
   "source": [
    "anomalies.to_csv('B:\\Учёба\\диплом\\трафик\\After_lstm.csv')"
   ]
  }
 ],
 "metadata": {
  "kernelspec": {
   "display_name": "Python 3",
   "language": "python",
   "name": "python3"
  },
  "language_info": {
   "codemirror_mode": {
    "name": "ipython",
    "version": 3
   },
   "file_extension": ".py",
   "mimetype": "text/x-python",
   "name": "python",
   "nbconvert_exporter": "python",
   "pygments_lexer": "ipython3",
   "version": "3.9.4"
  }
 },
 "nbformat": 4,
 "nbformat_minor": 5
}
