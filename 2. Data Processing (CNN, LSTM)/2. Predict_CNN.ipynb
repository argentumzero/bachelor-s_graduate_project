{
 "cells": [
  {
   "cell_type": "code",
   "execution_count": 1,
   "id": "1ef92563",
   "metadata": {},
   "outputs": [],
   "source": [
    "'''В данной программе производится непосредственно сама классификация текста из датасета Test_new.csv\n",
    "Грузим непосредственно саму модель и токенайзер, прогоняем через генераторы (по времени получилось быстро),\n",
    "и получаем таблицу с вероятностями принадлежности определенному классу вируса, в последнем столбце указывается \n",
    "индекс максимального значения, который интерпретируется как номер класса.'''\n",
    "from tensorflow.keras.models import load_model\n",
    "from tensorflow.keras.preprocessing.text import Tokenizer\n",
    "from tensorflow.keras.preprocessing.sequence import pad_sequences\n",
    "import pickle\n",
    "import pandas as pd\n",
    "import numpy as np"
   ]
  },
  {
   "cell_type": "code",
   "execution_count": 2,
   "id": "ea7630b1",
   "metadata": {},
   "outputs": [],
   "source": [
    "model_cnn = load_model('model_cnn.h5')\n",
    "with open('tokenizer.pickle', 'rb') as handle:\n",
    "    tokenizer = pickle.load(handle)\n",
    "text = pd.read_csv('B:\\Учёба\\диплом\\datasets\\Test_new.csv',header = None,names = ['text'])"
   ]
  },
  {
   "cell_type": "code",
   "execution_count": 4,
   "id": "2fdaadfd",
   "metadata": {},
   "outputs": [],
   "source": [
    "sequence = [tokenizer.texts_to_sequences([i]) for i in text['text']]"
   ]
  },
  {
   "cell_type": "code",
   "execution_count": 5,
   "id": "d49d3839",
   "metadata": {},
   "outputs": [],
   "source": [
    "data = [pad_sequences(i, maxlen=100) for i in sequence]"
   ]
  },
  {
   "cell_type": "code",
   "execution_count": 6,
   "id": "c1c706ee",
   "metadata": {},
   "outputs": [],
   "source": [
    "result = [model_cnn.predict(i) for i in data]"
   ]
  },
  {
   "cell_type": "code",
   "execution_count": 28,
   "id": "863303a9",
   "metadata": {},
   "outputs": [],
   "source": [
    "def rez(array):\n",
    "    ines = np.array([i*100 for i in array[0]]).reshape(1,12)\n",
    "    return pd.DataFrame(ines)\n",
    "dfs = pd.concat([i for i in [rez(i) for i in result]])"
   ]
  },
  {
   "cell_type": "code",
   "execution_count": 31,
   "id": "d36afaf4",
   "metadata": {},
   "outputs": [],
   "source": [
    "def indes(arr):\n",
    "    return np.where(arr == np.max(arr))"
   ]
  },
  {
   "cell_type": "code",
   "execution_count": 32,
   "id": "0b99d8da",
   "metadata": {},
   "outputs": [],
   "source": [
    "ins = [indes(df[i].values[0]) for i in range(len(dfs))]"
   ]
  },
  {
   "cell_type": "code",
   "execution_count": 51,
   "id": "3ae60bc2",
   "metadata": {},
   "outputs": [],
   "source": [
    "indes = [ins[i][0][0] for i in range(len(ins))]"
   ]
  },
  {
   "cell_type": "code",
   "execution_count": 49,
   "id": "ba854379",
   "metadata": {},
   "outputs": [],
   "source": [
    "dfs['index'] = indes\n",
    "dfs.to_csv('B:\\Учёба\\диплом\\datasets\\After_cnn.csv')"
   ]
  }
 ],
 "metadata": {
  "kernelspec": {
   "display_name": "Python 3",
   "language": "python",
   "name": "python3"
  },
  "language_info": {
   "codemirror_mode": {
    "name": "ipython",
    "version": 3
   },
   "file_extension": ".py",
   "mimetype": "text/x-python",
   "name": "python",
   "nbconvert_exporter": "python",
   "pygments_lexer": "ipython3",
   "version": "3.9.4"
  }
 },
 "nbformat": 4,
 "nbformat_minor": 5
}
