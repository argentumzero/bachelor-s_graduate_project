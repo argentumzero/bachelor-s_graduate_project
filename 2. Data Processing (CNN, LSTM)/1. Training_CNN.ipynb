{
 "cells": [
  {
   "cell_type": "code",
   "execution_count": 15,
   "id": "c69fc792",
   "metadata": {},
   "outputs": [],
   "source": [
    "'''В данной программе происходит построение сверточной нейронной сети и её обучение\n",
    "на основе датасета Train.csv, полученого из разделенного Antivir_dataset.csv, который был создан на прошлом этапе.\n",
    "Для упрощения работы используется Keras, проверяется качество работы модели с помщью графика matplotlib, так как\n",
    "при выборе модели рассматривался рекуррентный управляемый блок. Он не был использован,\n",
    "так как на второй эпохе процент верных ответов на проверочном наборе упал до 0.\n",
    "На выходе программы данные рассматриваются как обычный текст, как и на прошлом этапе применяется токенизация.\n",
    "На выходе программы имеем обученную модель и обученный на тексте токенайзер, так как на следующем этапе присвоение индексов \n",
    "словам будет производится с помощью полученных на данном этапе токенов, для корректного предикта.'''\n",
    "from tensorflow.keras.models import Sequential\n",
    "from tensorflow.keras.layers import Dense, Embedding, MaxPooling1D, Conv1D, GlobalMaxPooling1D, Dropout\n",
    "from tensorflow.keras import utils\n",
    "from tensorflow.keras.preprocessing.sequence import pad_sequences\n",
    "from tensorflow.keras.preprocessing.text import Tokenizer\n",
    "from tensorflow.keras.callbacks import ModelCheckpoint\n",
    "import pandas as pd\n",
    "import numpy as np\n",
    "import matplotlib.pyplot as plt\n",
    "import pickle"
   ]
  },
  {
   "cell_type": "code",
   "execution_count": 16,
   "id": "4790475e",
   "metadata": {},
   "outputs": [],
   "source": [
    "# Максимальное количество слов \n",
    "num_words = 1300000\n",
    "# Максимальная длина записи\n",
    "max_len = 100\n",
    "# Количество классов записей\n",
    "nb_classes = 12\n",
    "\n",
    "train = pd.read_csv(\"B:\\Учёба\\диплом\\datasets\\Train.csv\", header = None)\n",
    "train.columns = ['None','Class', 'Text']\n",
    "\n",
    "text = train['Text']\n",
    "y_train = utils.to_categorical(train['Class'] - 1, nb_classes)\n",
    "\n",
    "tokenizer = Tokenizer(num_words=num_words)\n",
    "tokenizer.fit_on_texts(text)\n",
    "\n",
    "sequences = tokenizer.texts_to_sequences(text)"
   ]
  },
  {
   "cell_type": "code",
   "execution_count": 7,
   "id": "35fc4fea",
   "metadata": {},
   "outputs": [],
   "source": [
    "x_train = pad_sequences(sequences, maxlen=max_len)"
   ]
  },
  {
   "cell_type": "code",
   "execution_count": 8,
   "id": "4f7b62c9",
   "metadata": {},
   "outputs": [],
   "source": [
    "model_cnn = Sequential()\n",
    "model_cnn.add(Embedding(num_words, 60, input_length=max_len))\n",
    "model_cnn.add(Conv1D(250, 5, padding='valid', activation='relu'))\n",
    "model_cnn.add(GlobalMaxPooling1D())\n",
    "model_cnn.add(Dense(128, activation='relu'))\n",
    "model_cnn.add(Dense(12, activation='softmax'))"
   ]
  },
  {
   "cell_type": "code",
   "execution_count": 9,
   "id": "b6549fdc",
   "metadata": {},
   "outputs": [],
   "source": [
    "model_cnn.compile(optimizer='adam', \n",
    "              loss='categorical_crossentropy', \n",
    "              metrics=['accuracy'])"
   ]
  },
  {
   "cell_type": "code",
   "execution_count": 10,
   "id": "2b823980",
   "metadata": {},
   "outputs": [
    {
     "name": "stdout",
     "output_type": "stream",
     "text": [
      "Model: \"sequential\"\n",
      "_________________________________________________________________\n",
      "Layer (type)                 Output Shape              Param #   \n",
      "=================================================================\n",
      "embedding (Embedding)        (None, 100, 60)           60000000  \n",
      "_________________________________________________________________\n",
      "conv1d (Conv1D)              (None, 96, 250)           75250     \n",
      "_________________________________________________________________\n",
      "global_max_pooling1d (Global (None, 250)               0         \n",
      "_________________________________________________________________\n",
      "dense (Dense)                (None, 128)               32128     \n",
      "_________________________________________________________________\n",
      "dense_1 (Dense)              (None, 12)                1548      \n",
      "=================================================================\n",
      "Total params: 60,108,926\n",
      "Trainable params: 60,108,926\n",
      "Non-trainable params: 0\n",
      "_________________________________________________________________\n"
     ]
    }
   ],
   "source": [
    "model_cnn.summary()\n",
    "\n",
    "model_save = 'best_model_cnn.h5'\n",
    "checkpoint_callback = ModelCheckpoint(model_save, \n",
    "                                      monitor='val_accuracy',\n",
    "                                      save_best_only=True,\n",
    "                                      verbose=1)\n",
    "\n",
    "history_cnn = model_cnn.fit(x_train, \n",
    "                            y_train, \n",
    "                            epochs=5,\n",
    "                            batch_size=128,\n",
    "                            validation_split=0.1,\n",
    "                            callbacks=[checkpoint_callback])"
   ]
  },
  {
   "cell_type": "code",
   "execution_count": 13,
   "id": "1f55a9d4",
   "metadata": {},
   "outputs": [
    {
     "data": {
      "image/png": "[encoded data removed]",
      "text/plain": [
       "<Figure size 432x288 with 1 Axes>"
      ]
     },
     "metadata": {
      "needs_background": "light"
     },
     "output_type": "display_data"
    }
   ],
   "source": [
    "plt.plot(history_cnn.history['accuracy'], \n",
    "         label='Доля верных ответов на обучающем наборе')\n",
    "plt.plot(history_cnn.history['val_accuracy'], \n",
    "         label='Доля верных ответов на проверочном наборе')\n",
    "plt.xlabel('Эпоха обучения')\n",
    "plt.ylabel('Доля верных ответов')\n",
    "plt.legend()\n",
    "plt.show()"
   ]
  },
  {
   "cell_type": "code",
   "execution_count": 74,
   "id": "6881d76a",
   "metadata": {},
   "outputs": [],
   "source": [
    "test = pd.read_csv('B:\\Учёба\\диплом\\datasets\\Test.csv', \n",
    "                    header=None, \n",
    "                    names=['None','class', 'text'])\n",
    "\n",
    "test_sequences = tokenizer.texts_to_sequences(test['text'])\n",
    "\n",
    "x_test = pad_sequences(test_sequences, maxlen=max_news_len)\n",
    "\n",
    "y_test = utils.to_categorical(test['class'] - 1, nb_classes)\n",
    "\n",
    "model_cnn.load_weights(model_save)\n",
    "\n",
    "model_cnn.evaluate(x_test, y_test, verbose=1)"
   ]
  },
  {
   "cell_type": "code",
   "execution_count": 80,
   "id": "d033a216",
   "metadata": {},
   "outputs": [],
   "source": [
    "model_cnn.save('model_cnn.h5')\n",
    "with open('tokenizer.pickle', 'wb') as handle:\n",
    "    pickle.dump(tokenizer, handle, protocol=pickle.HIGHEST_PROTOCOL)"
   ]
  }
 ],
 "metadata": {
  "kernelspec": {
   "display_name": "Python 3",
   "language": "python",
   "name": "python3"
  },
  "language_info": {
   "codemirror_mode": {
    "name": "ipython",
    "version": 3
   },
   "file_extension": ".py",
   "mimetype": "text/x-python",
   "name": "python",
   "nbconvert_exporter": "python",
   "pygments_lexer": "ipython3",
   "version": "3.9.4"
  }
 },
 "nbformat": 4,
 "nbformat_minor": 5
}
