{
 "cells": [
  {
   "cell_type": "code",
   "execution_count": 117,
   "id": "c2a1abdf",
   "metadata": {},
   "outputs": [
    {
     "name": "stderr",
     "output_type": "stream",
     "text": [
      "<ipython-input-117-da7ad899a33d>:8: FutureWarning: pandas.io.json.json_normalize is deprecated, use pandas.json_normalize instead\n",
      "  df_34 = pd.DataFrame.from_dict(json_normalize(dataset_34), orient = 'columns')\n",
      "<ipython-input-117-da7ad899a33d>:11: FutureWarning: pandas.io.json.json_normalize is deprecated, use pandas.json_normalize instead\n",
      "  df_37 = pd.DataFrame.from_dict(json_normalize(dataset_37), orient = 'columns')\n"
     ]
    }
   ],
   "source": [
    "# достаем нужные сигнатуры из json-ов в apt\n",
    "import random\n",
    "import pandas as pd\n",
    "import numpy as np\n",
    "import json\n",
    "from pandas.io.json import json_normalize\n",
    "with open(\"B:\\Учёба\\диплом\\сигнатуры\\APT\\iran.json\") as filename:\n",
    "    dataset_34 = json.load(filename)\n",
    "df_34 = pd.DataFrame.from_dict(json_normalize(dataset_34), orient = 'columns')\n",
    "with open(\"B:\\Учёба\\диплом\\сигнатуры\\APT\\ireap.json\") as filename:\n",
    "    dataset_37 = json.load(filename)\n",
    "df_37 = pd.DataFrame.from_dict(json_normalize(dataset_37), orient = 'columns')\n",
    "df_sigs_34 = np.array(df_34.iloc[:,14:])\n",
    "arr_sigs_34 = np.array([])\n",
    "arr_sigs_34 = [np.append(arr_sigs_34,df_sigs_34[:,i][0].split()) for i in np.arange(len(df_sigs_34[0]))]\n",
    "arr_sigs_34 = np.concatenate([arr_sigs_34[i] for i in np.arange(len(arr_sigs_34))])\n",
    "df_sigs_37 = np.array(df_37.iloc[:,-3:-1])\n",
    "arr_sigs_37 = np.array([])\n",
    "arr_sigs_37 = [np.append(arr_sigs_37,df_sigs_37[:,i][0].split()) for i in np.arange(len(df_sigs_37[0]))]\n",
    "arr_sigs_37 = np.concatenate([arr_sigs_37[i] for i in np.arange(len(arr_sigs_37))])\n",
    "arr_sigs_apt = np.unique(np.concatenate([arr_sigs_34,arr_sigs_37]))\n",
    "df_apt_sig = pd.DataFrame(arr_sigs_apt, columns = ['APT'])\n",
    "with pd.ExcelWriter(\"B:\\Учёба\\диплом\\сигнатуры\\signature.xlsx\") as writer:\n",
    "    df_apt_sig.to_excel(writer, startcol = 0)"
   ]
  },
  {
   "cell_type": "code",
   "execution_count": null,
   "id": "559fa3df",
   "metadata": {},
   "outputs": [],
   "source": []
  },
  {
   "cell_type": "code",
   "execution_count": 109,
   "id": "c7689c44",
   "metadata": {},
   "outputs": [
    {
     "data": {
      "text/plain": [
       "array(['5b261d1d', '6d18c9d6', '5d6ed322', '00061a18', 'd1077b38',\n",
       "       '322614cb', 'ced5d048', '9d26d548', 'f26e55ff', '83dcd381',\n",
       "       'ce8422d7', '81a559ca', '852cdfd9', '1f1ddd9e', '1b5ba912',\n",
       "       '508b1118', '0e33a50d', 'eb98b019', '75d8a08a', '09f5bc32',\n",
       "       '23fbc833', '195b2ac2', '21dad5c2', '87fa6af9', 'a0b3ebab',\n",
       "       '6733e33a', '29fcb4ce', 'ed22e590', '86bda7c9', '4c2d2bae',\n",
       "       '58613d8e', 'f489e837', '1afc168a', '1bf1e575', 'ff2c2dbe',\n",
       "       '18a595be', '267ea1c8', '4a6cf968', '1f38e903', '22304c3a',\n",
       "       '3188e4c1', 'ab9f790f', '5440fa64', '68ab9f85', '15471ee7'],\n",
       "      dtype='<U32')"
      ]
     },
     "execution_count": 109,
     "metadata": {},
     "output_type": "execute_result"
    }
   ],
   "source": []
  },
  {
   "cell_type": "code",
   "execution_count": 110,
   "id": "6b10e73c",
   "metadata": {},
   "outputs": [
    {
     "data": {
      "text/plain": [
       "array(['e8182cff', '45e0edac', 'c1c42526', '24da581a', '3028740b',\n",
       "       '83ef851a', 'c55babb8', '62b86d2d', 'c58306d2', '65daa061',\n",
       "       '8d4418a3', '3624e7f9', 'fc09126d', '9ffb800e', '0a245039',\n",
       "       'b7dfabc1', 'd9243828', 'fa55c8fb', '2a303614', 'e4894e22',\n",
       "       'f42acb1e', '5977efc1', '0fd0ecbc', '7c2d2e89', '4d6c12fa',\n",
       "       'cfc3741c', 'df4a0d0a', '04581a2d', '2e66c42b', 'be238f98',\n",
       "       '617dab43', 'b0cbdd14', '530773d1', 'd44896e5', 'dfff0a7f',\n",
       "       '7b946538', 'cfcd2084', '433d2987', '2f2d399f', '98e83379',\n",
       "       '70e615c4', '5d46e505', '255b7fe6', '8a2ee172', '15d719ad',\n",
       "       '9c6b3e0e', 'e0362f31', 'ae9a167c', 'e88daeb3', '05fab56c',\n",
       "       '8311a469', '0906e49c', '05fab56c', 'ae9a167c', 'e0362f31',\n",
       "       '866c08b5', '55f4636e', '9297b53a', '093bdde2', '421f70d8',\n",
       "       'a9c449d4', '36a799e2', '421f70d8', '13de2f68', '093bdde2',\n",
       "       'a9c449d4', '869b7419', 'af5e674d', 'e91ea92c', '5b261d1d',\n",
       "       '6d18c9d6', '5d6ed322', '00061a18', 'd1077b38', '322614cb',\n",
       "       'ced5d048', '9d26d548', 'f26e55ff', '83dcd381', 'ce8422d7',\n",
       "       '81a559ca', '852cdfd9', '1f1ddd9e', '1b5ba912', '508b1118',\n",
       "       '0e33a50d', 'eb98b019', '75d8a08a', '09f5bc32', '23fbc833',\n",
       "       '195b2ac2', '21dad5c2', '87fa6af9', 'a0b3ebab', '6733e33a',\n",
       "       '29fcb4ce', 'ed22e590', '86bda7c9', '4c2d2bae', '58613d8e',\n",
       "       'f489e837', '1afc168a', '1bf1e575', 'ff2c2dbe', '18a595be',\n",
       "       '267ea1c8', '4a6cf968', '1f38e903', '22304c3a', '3188e4c1',\n",
       "       'ab9f790f', '5440fa64', '68ab9f85', '15471ee7'], dtype='<U32')"
      ]
     },
     "execution_count": 110,
     "metadata": {},
     "output_type": "execute_result"
    }
   ],
   "source": [
    "\n"
   ]
  },
  {
   "cell_type": "code",
   "execution_count": 50,
   "id": "688781fd",
   "metadata": {},
   "outputs": [
    {
     "name": "stderr",
     "output_type": "stream",
     "text": [
      "<ipython-input-50-ec1dc1fd9b5b>:1: VisibleDeprecationWarning: Creating an ndarray from ragged nested sequences (which is a list-or-tuple of lists-or-tuples-or ndarrays with different lengths or shapes) is deprecated. If you meant to do this, you must specify 'dtype=object' when creating the ndarray.\n",
      "  arr_sigs = np.array([np.array(arr_sigs_apt[i].split()) for i in np.arange(len(arr_sigs_apt))])\n"
     ]
    },
    {
     "data": {
      "text/plain": [
       "array([array(['e8182cff'], dtype='<U8'),\n",
       "       array(['45e0edac', 'c1c42526', '24da581a', '3028740b', '83ef851a',\n",
       "              'c55babb8', '62b86d2d', 'c58306d2', '65daa061', '8d4418a3'],\n",
       "             dtype='<U8')                                                 ,\n",
       "       array(['3624e7f9', 'fc09126d', '9ffb800e', '0a245039', 'b7dfabc1'],\n",
       "             dtype='<U8')                                                 ,\n",
       "       array(['d9243828', 'fa55c8fb', '2a303614', 'e4894e22', 'f42acb1e',\n",
       "              '5977efc1', '0fd0ecbc', '7c2d2e89', '4d6c12fa'], dtype='<U8'),\n",
       "       array(['cfc3741c'], dtype='<U8'),\n",
       "       array(['df4a0d0a', '04581a2d'], dtype='<U8'),\n",
       "       array(['2e66c42b', 'be238f98', '617dab43', 'b0cbdd14', '530773d1',\n",
       "              'd44896e5'], dtype='<U8')                                  ,\n",
       "       array(['dfff0a7f', '7b946538', 'cfcd2084', '433d2987', '2f2d399f',\n",
       "              '98e83379', '70e615c4', '5d46e505'], dtype='<U8')          ,\n",
       "       array(['255b7fe6', '8a2ee172', '15d719ad', '9c6b3e0e'], dtype='<U8'),\n",
       "       array(['e0362f31', 'ae9a167c', 'e88daeb3', '05fab56c'], dtype='<U8'),\n",
       "       array(['8311a469', '0906e49c'], dtype='<U8'),\n",
       "       array(['05fab56c', 'ae9a167c', 'e0362f31'], dtype='<U8'),\n",
       "       array(['866c08b5', '55f4636e'], dtype='<U8'),\n",
       "       array(['9297b53a', '093bdde2', '421f70d8', 'a9c449d4'], dtype='<U8'),\n",
       "       array(['5b261d1d', '6d18c9d6', '5d6ed322', '00061a18', 'd1077b38',\n",
       "              '322614cb', 'ced5d048', '9d26d548', 'f26e55ff', '83dcd381',\n",
       "              'ce8422d7', '81a559ca', '852cdfd9', '1f1ddd9e', '1b5ba912',\n",
       "              '508b1118', '0e33a50d', 'eb98b019', '75d8a08a', '09f5bc32',\n",
       "              '23fbc833', '195b2ac2', '21dad5c2', '87fa6af9', 'a0b3ebab',\n",
       "              '6733e33a', '29fcb4ce', 'ed22e590', '86bda7c9', '4c2d2bae',\n",
       "              '58613d8e', 'f489e837', '1afc168a', '1bf1e575', 'ff2c2dbe',\n",
       "              '18a595be', '267ea1c8', '4a6cf968', '1f38e903', '22304c3a',\n",
       "              '3188e4c1', 'ab9f790f', '5440fa64', '68ab9f85'], dtype='<U8'),\n",
       "       array(['15471ee7'], dtype='<U8')], dtype=object)"
      ]
     },
     "execution_count": 50,
     "metadata": {},
     "output_type": "execute_result"
    }
   ],
   "source": []
  },
  {
   "cell_type": "code",
   "execution_count": null,
   "id": "cfc3065d",
   "metadata": {},
   "outputs": [],
   "source": []
  }
 ],
 "metadata": {
  "kernelspec": {
   "display_name": "Python 3",
   "language": "python",
   "name": "python3"
  },
  "language_info": {
   "codemirror_mode": {
    "name": "ipython",
    "version": 3
   },
   "file_extension": ".py",
   "mimetype": "text/x-python",
   "name": "python",
   "nbconvert_exporter": "python",
   "pygments_lexer": "ipython3",
   "version": "3.9.4"
  }
 },
 "nbformat": 4,
 "nbformat_minor": 5
}
