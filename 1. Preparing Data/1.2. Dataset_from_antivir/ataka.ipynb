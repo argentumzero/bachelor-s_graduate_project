{
 "cells": [
  {
   "cell_type": "code",
   "execution_count": 1,
   "id": "6c9a04cf",
   "metadata": {},
   "outputs": [],
   "source": [
    "'''А здесь сделан датасет \"имитация сообщений\", сделан из обучающего, что плохо, но быстро и не для реальности.'''\n",
    "import random\n",
    "import pandas as pd\n",
    "import numpy as np"
   ]
  },
  {
   "cell_type": "code",
   "execution_count": 6,
   "id": "03ac0df3",
   "metadata": {},
   "outputs": [],
   "source": [
    "text = pd.read_csv(\"B:\\Учёба\\диплом\\datasets\\Train.csv\", header = None).iloc[:,2]"
   ]
  },
  {
   "cell_type": "code",
   "execution_count": 10,
   "id": "b1bfbdeb",
   "metadata": {},
   "outputs": [],
   "source": [
    "index = random.choices(range(len(text.values)), k=3000)"
   ]
  },
  {
   "cell_type": "code",
   "execution_count": 15,
   "id": "3f1a11dd",
   "metadata": {},
   "outputs": [],
   "source": [
    "pd.DataFrame(text.values[index]).to_csv('B:\\Учёба\\диплом\\datasets\\Test_new.csv')"
   ]
  }
 ],
 "metadata": {
  "kernelspec": {
   "display_name": "Python 3",
   "language": "python",
   "name": "python3"
  },
  "language_info": {
   "codemirror_mode": {
    "name": "ipython",
    "version": 3
   },
   "file_extension": ".py",
   "mimetype": "text/x-python",
   "name": "python",
   "nbconvert_exporter": "python",
   "pygments_lexer": "ipython3",
   "version": "3.9.4"
  }
 },
 "nbformat": 4,
 "nbformat_minor": 5
}
