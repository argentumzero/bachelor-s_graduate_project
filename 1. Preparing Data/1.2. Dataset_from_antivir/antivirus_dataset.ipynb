{
 "cells": [
  {
   "cell_type": "code",
   "execution_count": 1,
   "id": "4059fb36",
   "metadata": {},
   "outputs": [],
   "source": [
    "'''Название программы является говорящим, здесь создавался датасет для СНС: сначала грузим датасет\n",
    "с прошлого этапа подготовки данных, далее создаем основу под вирусы, длина 100 была подходящей, так как\n",
    "само тело оригинала в большинстве файлов было меньше 100 \"слов\", после генерируем индексы случайные для сигнатур\n",
    "и для мест в записях, производим замену и офрмляем в читаемый вид для наглядности.'''\n",
    "import pandas as pd\n",
    "import numpy as np\n",
    "import random as rand\n",
    "import openpyxl\n",
    "import secrets\n",
    "file = pd.ExcelFile(\"B:\\Учёба\\диплом\\сигнатуры\\signature.xlsx\")"
   ]
  },
  {
   "cell_type": "code",
   "execution_count": 2,
   "id": "d500d515",
   "metadata": {},
   "outputs": [],
   "source": [
    "# извлечение данных по листам\n",
    "def signas(file, sheet):\n",
    "    df = file.parse(sheet)\n",
    "    return df.iloc[:,1].values\n",
    "# заголовки\n",
    "def zagolovki(file,sheet):\n",
    "    df = file.parse(sheet)\n",
    "    return df.columns.values[1]  \n",
    "# Считали файл\n",
    "# вывели список листов\n",
    "sheet_list = file.sheet_names\n",
    "# массивы с сигнатурами\n",
    "signas_ = [signas(file,i) for i in sheet_list]\n",
    "# вывод заголовков\n",
    "heads = [zagolovki(file,i) for i in sheet_list]\n",
    "\n"
   ]
  },
  {
   "cell_type": "code",
   "execution_count": 3,
   "id": "5d9f71d1",
   "metadata": {},
   "outputs": [],
   "source": [
    "# формируем ключи для сигнатур\n",
    "def key_for_d100(arr1):\n",
    "    return rand.choice(np.arange(round(len(arr1)*0.25),round(len(arr1))))\n",
    "def key_for_u100():\n",
    "    return rand.choice(np.arange(round(100*0.25),round(100*0.75)))\n",
    "    # если сигнатура меньше длинной, чем 100, значит используем ее всю, если больше, то длина до 100\n",
    "def vibor(signa):\n",
    "    if len(signa)>=100:\n",
    "        return [rand.choices(np.arange(len(signa)), k = key_for_u100()) for i in np.arange(1000)]\n",
    "    else:\n",
    "        return [rand.choices(np.arange(len(signa)), k = key_for_d100(signa)) for i in np.arange(1000)]\n",
    "def znach_zamena(signa):\n",
    "    return vibor(signa)\n",
    "indexes1 = [znach_zamena(signas_[i]) for i in np.arange(len(signas_))]"
   ]
  },
  {
   "cell_type": "code",
   "execution_count": 4,
   "id": "e133e2ba",
   "metadata": {},
   "outputs": [],
   "source": [
    "#хексы\n",
    "def hexs():\n",
    "    return [secrets.token_hex(4) for i in np.arange(100)]\n",
    "# сделали записи основы под вирусы с хексами каждый размером 100х1000\n",
    "def texts():\n",
    "    return [hexs() for i in np.arange(1000)]\n",
    "#создали основу под вирусы\n",
    "osnova_vir = np.array([texts() for i in np.arange(len(signas_))])"
   ]
  },
  {
   "cell_type": "code",
   "execution_count": 5,
   "id": "1d02852f",
   "metadata": {},
   "outputs": [
    {
     "name": "stderr",
     "output_type": "stream",
     "text": [
      "<ipython-input-5-8cf7f077b768>:3: VisibleDeprecationWarning: Creating an ndarray from ragged nested sequences (which is a list-or-tuple of lists-or-tuples-or ndarrays with different lengths or shapes) is deprecated. If you meant to do this, you must specify 'dtype=object' when creating the ndarray\n",
      "  return np.array([arr[i] for i in indes])\n"
     ]
    }
   ],
   "source": [
    "#достаем значения из сигнатур:\n",
    "def izvlech(indes, arr):\n",
    "    return np.array([arr[i] for i in indes])\n",
    "# сгенерировали сигнатуры для вставки\n",
    "signas_new = np.array([izvlech(indexes1[i], signas_[i]) for i in np.arange(len(signas_))])"
   ]
  },
  {
   "cell_type": "code",
   "execution_count": 6,
   "id": "91268a05",
   "metadata": {},
   "outputs": [],
   "source": [
    "#создаем индексы в которые будет производится замена\n",
    "def prikidka(arr,new_s):\n",
    "    return [rand.choices(np.arange(len(arr[i])), k=len(new_s[i])) for i in np.arange(len(arr))]\n",
    "    # меняем значения о индексам\n",
    "\n",
    "def mesta_zameny(osnova_vir, new_s):\n",
    "    indes1 = [prikidka(osnova_vir[i], new_s[i]) for i in np.arange(len(osnova_vir))]\n",
    "    return indes1\n",
    "# сгенерировали места для вставки\n",
    "indexes2 = mesta_zameny(osnova_vir, signas_new)"
   ]
  },
  {
   "cell_type": "code",
   "execution_count": 7,
   "id": "b34793fe",
   "metadata": {},
   "outputs": [],
   "source": [
    "def peremena(osnova,ind,test):\n",
    "    for i in np.arange(len(osnova)):\n",
    "        osnova[i][ind[i]]=test[i]\n",
    "    return osnova\n",
    "\n",
    "new_zaraj = np.array([peremena(osnova_vir[i], indexes2[i], signas_new[i]) for i in np.arange(len(indexes2))])"
   ]
  },
  {
   "cell_type": "code",
   "execution_count": 8,
   "id": "0b2a4e45",
   "metadata": {
    "scrolled": true
   },
   "outputs": [
    {
     "data": {
      "text/plain": [
       "'я знаю, что здесь уже никто не будет читать, чтож, я делала это 3 дня, так как попала в травму,\\nи у меня болит все от поясницы до правой пятки.\\nСегодня 20.05. мне до сих пор интересно, но я уже устала,\\nпоэтому код дико кривой и костыльный'"
      ]
     },
     "execution_count": 8,
     "metadata": {},
     "output_type": "execute_result"
    }
   ],
   "source": [
    "def hehex():\n",
    "    return [secrets.token_hex(4) for i in np.arange(100)]\n",
    "def chisto():\n",
    "    return [hehex() for i in np.arange(2000)]\n",
    "chistoe = np.array(chisto())"
   ]
  },
  {
   "cell_type": "code",
   "execution_count": 9,
   "id": "0a4b3e18",
   "metadata": {},
   "outputs": [],
   "source": [
    "def conv_frame(arr,name,povtor):\n",
    "    return pd.DataFrame(arr, index=[name]*povtor)"
   ]
  },
  {
   "cell_type": "code",
   "execution_count": 10,
   "id": "7e69971b",
   "metadata": {},
   "outputs": [],
   "source": [
    "new_heads = [1,2,3,4,5,6,7,8,9,10,11]\n",
    "zar_df = [conv_frame(new_zaraj[i], new_heads[i], 1000) for i in np.arange(len(new_heads))]"
   ]
  },
  {
   "cell_type": "code",
   "execution_count": 11,
   "id": "de1c6f5e",
   "metadata": {},
   "outputs": [],
   "source": [
    "chist_df = conv_frame(chistoe, 12,2000)"
   ]
  },
  {
   "cell_type": "code",
   "execution_count": 12,
   "id": "1e329834",
   "metadata": {},
   "outputs": [],
   "source": [
    "rez = pd.concat([i for i in zar_df])"
   ]
  },
  {
   "cell_type": "code",
   "execution_count": 13,
   "id": "63f904a2",
   "metadata": {},
   "outputs": [],
   "source": [
    "vihod1 = pd.concat([rez,chist_df])\n",
    "vihod =  pd.DataFrame(vihod1.iloc[:,0:100].apply(lambda x: ' '.join(x),axis=1))"
   ]
  },
  {
   "cell_type": "code",
   "execution_count": 43,
   "id": "b0032a09",
   "metadata": {
    "scrolled": true
   },
   "outputs": [],
   "source": [
    "vihod.to_csv('B:\\Учёба\\диплом\\datasets\\Antivir_dataset.csv')"
   ]
  }
 ],
 "metadata": {
  "kernelspec": {
   "display_name": "Python 3",
   "language": "python",
   "name": "python3"
  },
  "language_info": {
   "codemirror_mode": {
    "name": "ipython",
    "version": 3
   },
   "file_extension": ".py",
   "mimetype": "text/x-python",
   "name": "python",
   "nbconvert_exporter": "python",
   "pygments_lexer": "ipython3",
   "version": "3.9.4"
  }
 },
 "nbformat": 4,
 "nbformat_minor": 5
}
