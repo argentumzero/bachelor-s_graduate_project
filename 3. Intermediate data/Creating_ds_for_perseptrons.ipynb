{
 "cells": [
  {
   "cell_type": "code",
   "execution_count": 1,
   "id": "d66ee085",
   "metadata": {},
   "outputs": [],
   "source": [
    "import pandas as pd\n",
    "import random\n",
    "import numpy as np"
   ]
  },
  {
   "cell_type": "code",
   "execution_count": 2,
   "id": "d6070da9",
   "metadata": {},
   "outputs": [],
   "source": [
    "df_cnn = pd.read_csv('B:\\Учёба\\диплом\\datasets\\After_cnn.csv')\n",
    "df_lstm = pd.read_csv('B:\\Учёба\\диплом\\трафик\\After_lstm.csv')"
   ]
  },
  {
   "cell_type": "code",
   "execution_count": 3,
   "id": "94008b45",
   "metadata": {},
   "outputs": [],
   "source": [
    "half_1 = np.where(df_lstm['anomaly'].values == True, 1,0) "
   ]
  },
  {
   "cell_type": "code",
   "execution_count": 4,
   "id": "595bfacf",
   "metadata": {},
   "outputs": [],
   "source": [
    "half_1 = np.concatenate([half_1,np.array([1]*(3000-len(half_1)))])"
   ]
  },
  {
   "cell_type": "code",
   "execution_count": 5,
   "id": "7595492b",
   "metadata": {},
   "outputs": [
    {
     "data": {
      "text/plain": [
       "array([1, 1, 1, ..., 1, 1, 1])"
      ]
     },
     "execution_count": 5,
     "metadata": {},
     "output_type": "execute_result"
    }
   ],
   "source": [
    "half_1[random.choices(range(len(half_1)), k=1500)] = np.array([0]*1500)"
   ]
  },
  {
   "cell_type": "code",
   "execution_count": 26,
   "id": "a8230e0b",
   "metadata": {},
   "outputs": [],
   "source": [
    "half_2 = df_cnn['index']"
   ]
  },
  {
   "cell_type": "code",
   "execution_count": 27,
   "id": "71e321f9",
   "metadata": {},
   "outputs": [],
   "source": [
    "def cnn(arr, imena):\n",
    "    return {\n",
    "        arr in [0,1]: imena[0],\n",
    "        arr == 3: imena[1],\n",
    "        arr in [2,10]: imena[2],\n",
    "        arr in [4,5,7]: imena[3],\n",
    "        arr in [6,8]: imena[4],\n",
    "        arr==9: imena[5],\n",
    "        arr==11: imena[6]\n",
    "    }[1]"
   ]
  },
  {
   "cell_type": "code",
   "execution_count": 28,
   "id": "9f88289e",
   "metadata": {},
   "outputs": [],
   "source": [
    "imena = [[0,0,0],[0,0,1],[0,1,0],[0,1,1],[1,0,0],[1,0,1],[1,1,0]]\n",
    "n_im = list(map(lambda x: np.array(x), imena))\n",
    "scen1 = np.array([cnn(i,n_im) for i in half_2])"
   ]
  },
  {
   "cell_type": "code",
   "execution_count": 35,
   "id": "0350bbd9",
   "metadata": {},
   "outputs": [
    {
     "name": "stderr",
     "output_type": "stream",
     "text": [
      "<ipython-input-35-c2f437d49286>:7: SettingWithCopyWarning: \n",
      "A value is trying to be set on a copy of a slice from a DataFrame\n",
      "\n",
      "See the caveats in the documentation: https://pandas.pydata.org/pandas-docs/stable/user_guide/indexing.html#returning-a-view-versus-a-copy\n",
      "  half_2[indexes[i][0]] = np.array([seq[i]]*len(indexes[i][0]))\n"
     ]
    }
   ],
   "source": [
    "seq = np.array(['0000','0001','0010','0011','0100','0101','0110','0111','1000','1001','1010','1011'])\n",
    "seq2 = [0,1,2,3,4,5,6,7,8,9,10,11]\n",
    "def ines(arr, sequ):\n",
    "    return np.where(arr==sequ)\n",
    "indexes = [ines(half_2, i) for i in seq2]\n",
    "for i in range(12):\n",
    "    half_2[indexes[i][0]] = np.array([seq[i]]*len(indexes[i][0]))\n",
    "def peredel(arr):\n",
    "    return np.array([int(i) for i in list(arr)])\n",
    "new_half_2 = np.array([peredel(i) for i in half_2])"
   ]
  },
  {
   "cell_type": "code",
   "execution_count": 37,
   "id": "64be10c4",
   "metadata": {},
   "outputs": [],
   "source": [
    "scen2=half_1"
   ]
  },
  {
   "cell_type": "code",
   "execution_count": 38,
   "id": "6bd16f71",
   "metadata": {},
   "outputs": [],
   "source": [
    "df_rez = pd.DataFrame(half_1, columns = ['trafic'])\n",
    "df_rez['priz_v1'] = pd.DataFrame(new_half_2[:,0])\n",
    "df_rez['priz_v2'] = pd.DataFrame(new_half_2[:,1])\n",
    "df_rez['priz_v3'] = pd.DataFrame(new_half_2[:,2])\n",
    "df_rez['priz_v4'] = pd.DataFrame(new_half_2[:,3])\n",
    "df_rez['anw1'] = pd.DataFrame(scen1[:,0])\n",
    "df_rez['anw2'] = pd.DataFrame(scen1[:,1])\n",
    "df_rez['anw3'] = pd.DataFrame(scen1[:,2])\n",
    "df_rez['anw4'] = pd.DataFrame(scen2)"
   ]
  },
  {
   "cell_type": "code",
   "execution_count": 39,
   "id": "a4cdd236",
   "metadata": {},
   "outputs": [],
   "source": [
    "df_rez.to_csv('B:\\Учёба\\диплом\\datasets\\For_persep.csv')"
   ]
  },
  {
   "cell_type": "code",
   "execution_count": 40,
   "id": "61e22c7b",
   "metadata": {},
   "outputs": [],
   "source": [
    "test1 = random.choices([0,1], k=200)\n",
    "test2 = random.choices(['0000','0001','0010','0011','0100','0101','0110','0111','1000','1001','1010','1011'], k=200)\n",
    "new_test2 = np.array([peredel(i) for i in test2])"
   ]
  },
  {
   "cell_type": "code",
   "execution_count": 41,
   "id": "3d70ae63",
   "metadata": {},
   "outputs": [],
   "source": [
    "df_test = pd.DataFrame(test1, columns=['trafic'])\n",
    "df_test['priz_v1'] = pd.DataFrame(new_test2[:,0])\n",
    "df_test['priz_v2'] = pd.DataFrame(new_test2[:,1])\n",
    "df_test['priz_v3'] = pd.DataFrame(new_test2[:,2])\n",
    "df_test['priz_v4'] = pd.DataFrame(new_test2[:,3])"
   ]
  },
  {
   "cell_type": "code",
   "execution_count": 42,
   "id": "a922a74a",
   "metadata": {},
   "outputs": [],
   "source": [
    "df_test.to_csv('B:\\Учёба\\диплом\\datasets\\Test_persep.csv')"
   ]
  }
 ],
 "metadata": {
  "kernelspec": {
   "display_name": "Python 3",
   "language": "python",
   "name": "python3"
  },
  "language_info": {
   "codemirror_mode": {
    "name": "ipython",
    "version": 3
   },
   "file_extension": ".py",
   "mimetype": "text/x-python",
   "name": "python",
   "nbconvert_exporter": "python",
   "pygments_lexer": "ipython3",
   "version": "3.9.4"
  }
 },
 "nbformat": 4,
 "nbformat_minor": 5
}
