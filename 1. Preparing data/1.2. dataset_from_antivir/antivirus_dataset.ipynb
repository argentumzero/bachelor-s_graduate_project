{
 "cells": [
  {
   "cell_type": "code",
   "execution_count": 1,
   "id": "4059fb36",
   "metadata": {},
   "outputs": [],
   "source": [
    "'''Название программы является говорящим, здесь создавался датасет для СНС: сначала грузим датасет\n",
    "с прошлого этапа подготовки данных, далее создаем основу под вирусы, длина 100 была подходящей, так как\n",
    "само тело оригинала в большинстве файлов было меньше 100 \"слов\", после генерируем индексы случайные для сигнатур\n",
    "и для мест в записях, производим замену и офрмляем в читаемый вид для наглядности.'''\n",
    "import pandas as pd\n",
    "import numpy as np\n",
    "import random as rand\n",
    "import openpyxl\n",
    "import secrets\n",
    "file = pd.ExcelFile(\"B:\\Учёба\\диплом\\сигнатуры\\signature.xlsx\")"
   ]
  },
  {
   "cell_type": "code",
   "execution_count": 2,
   "id": "d500d515",
   "metadata": {},
   "outputs": [],
   "source": [
    "# извлечение данных по листам\n",
    "def signas(file, sheet):\n",
    "    df = file.parse(sheet)\n",
    "    return df.iloc[:,1].values\n",
    "# заголовки\n",
    "def zagolovki(file,sheet):\n",
    "    df = file.parse(sheet)\n",
    "    return df.columns.values[1]  \n",
    "# Считали файл\n",
    "# вывели список листов\n",
    "sheet_list = file.sheet_names\n",
    "# массивы с сигнатурами\n",
    "signas_ = [signas(file,i) for i in sheet_list]\n",
    "# вывод заголовков\n",
    "heads = [zagolovki(file,i) for i in sheet_list]\n",
    "\n"
   ]
  },
  {
   "cell_type": "code",
   "execution_count": 3,
   "id": "5d9f71d1",
   "metadata": {},
   "outputs": [],
   "source": [
    "# формируем ключи для сигнатур\n",
    "def key_for_d100(arr1):\n",
    "    return rand.choice(np.arange(round(len(arr1)*0.25),round(len(arr1))))\n",
    "def key_for_u100():\n",
    "    return rand.choice(np.arange(round(100*0.25),round(100*0.75)))\n",
    "    # если сигнатура меньше длинной, чем 100, значит используем ее всю, если больше, то длина до 100\n",
    "def vibor(signa):\n",
    "    if len(signa)>=100:\n",
    "        return [rand.choices(np.arange(len(signa)), k = key_for_u100()) for i in np.arange(1000)]\n",
    "    else:\n",
    "        return [rand.choices(np.arange(len(signa)), k = key_for_d100(signa)) for i in np.arange(1000)]\n",
    "def znach_zamena(signa):\n",
    "    return vibor(signa)\n",
    "indexes1 = [znach_zamena(signas_[i]) for i in np.arange(len(signas_))]"
   ]
  },
  {
   "cell_type": "code",
   "execution_count": 4,
   "id": "e133e2ba",
   "metadata": {},
   "outputs": [],
   "source": [
    "#хексы\n",
    "def hexs():\n",
    "    return [secrets.token_hex(4) for i in np.arange(100)]\n",
    "# сделали записи основы под вирусы с хексами каждый размером 100х1000\n",
    "def texts():\n",
    "    return [hexs() for i in np.arange(1000)]\n",
    "#создали основу под вирусы\n",
    "osnova_vir = np.array([texts() for i in np.arange(len(signas_))])"
   ]
  },
  {
   "cell_type": "code",
   "execution_count": 5,
   "id": "1d02852f",
   "metadata": {},
   "outputs": [
    {
     "name": "stderr",
     "output_type": "stream",
     "text": [
      "<ipython-input-5-8cf7f077b768>:3: VisibleDeprecationWarning: Creating an ndarray from ragged nested sequences (which is a list-or-tuple of lists-or-tuples-or ndarrays with different lengths or shapes) is deprecated. If you meant to do this, you must specify 'dtype=object' when creating the ndarray\n",
      "  return np.array([arr[i] for i in indes])\n"
     ]
    }
   ],
   "source": [
    "#достаем значения из сигнатур:\n",
    "def izvlech(indes, arr):\n",
    "    return np.array([arr[i] for i in indes])\n",
    "# сгенерировали сигнатуры для вставки\n",
    "signas_new = np.array([izvlech(indexes1[i], signas_[i]) for i in np.arange(len(signas_))])"
   ]
  },
  {
   "cell_type": "code",
   "execution_count": 6,
   "id": "91268a05",
   "metadata": {},
   "outputs": [],
   "source": [
    "#создаем индексы в которые будет производится замена\n",
    "def prikidka(arr,new_s):\n",
    "    return [rand.choices(np.arange(len(arr[i])), k=len(new_s[i])) for i in np.arange(len(arr))]\n",
    "    # меняем значения о индексам\n",
    "\n",
    "def mesta_zameny(osnova_vir, new_s):\n",
    "    indes1 = [prikidka(osnova_vir[i], new_s[i]) for i in np.arange(len(osnova_vir))]\n",
    "    return indes1\n",
    "# сгенерировали места для вставки\n",
    "indexes2 = mesta_zameny(osnova_vir, signas_new)"
   ]
  },
  {
   "cell_type": "code",
   "execution_count": 7,
   "id": "b34793fe",
   "metadata": {},
   "outputs": [],
   "source": [
    "def peremena(osnova,ind,test):\n",
    "    for i in np.arange(len(osnova)):\n",
    "        osnova[i][ind[i]]=test[i]\n",
    "    return osnova\n",
    "\n",
    "new_zaraj = np.array([peremena(osnova_vir[i], indexes2[i], signas_new[i]) for i in np.arange(len(indexes2))])"
   ]
  },
  {
   "cell_type": "code",
   "execution_count": 8,
   "id": "0b2a4e45",
   "metadata": {},
   "outputs": [
    {
     "data": {
      "text/plain": [
       "'я знаю, что здесь уже никто не будет читать, чтож, я делала это 3 дня, так как попала в травму,\\nи у меня болит все от поясницы до правой пятки.\\nСегодня 20.05. мне до сих пор интересно, но я уже устала,\\nпоэтому код дико кривой и костыльный'"
      ]
     },
     "execution_count": 8,
     "metadata": {},
     "output_type": "execute_result"
    }
   ],
   "source": [
    "def hehex():\n",
    "    return [secrets.token_hex(4) for i in np.arange(100)]\n",
    "def chisto():\n",
    "    return [hehex() for i in np.arange(2000)]\n",
    "chistoe = np.array(chisto())"
   ]
  },
  {
   "cell_type": "code",
   "execution_count": 9,
   "id": "0a4b3e18",
   "metadata": {},
   "outputs": [],
   "source": [
    "def conv_frame(arr,name,povtor):\n",
    "    return pd.DataFrame(arr, index=[name]*povtor)"
   ]
  },
  {
   "cell_type": "code",
   "execution_count": 10,
   "id": "7e69971b",
   "metadata": {},
   "outputs": [],
   "source": [
    "new_heads = [1,2,3,4,5,6,7,8,9,10,11]\n",
    "zar_df = [conv_frame(new_zaraj[i], new_heads[i], 1000) for i in np.arange(len(new_heads))]"
   ]
  },
  {
   "cell_type": "code",
   "execution_count": 11,
   "id": "de1c6f5e",
   "metadata": {},
   "outputs": [],
   "source": [
    "chist_df = conv_frame(chistoe, 12,2000)"
   ]
  },
  {
   "cell_type": "code",
   "execution_count": 12,
   "id": "1e329834",
   "metadata": {},
   "outputs": [],
   "source": [
    "rez = pd.concat([i for i in zar_df])"
   ]
  },
  {
   "cell_type": "code",
   "execution_count": 13,
   "id": "63f904a2",
   "metadata": {},
   "outputs": [],
   "source": [
    "vihod1 = pd.concat([rez,chist_df])\n",
    "vihod =  pd.DataFrame(vihod1.iloc[:,0:100].apply(lambda x: ' '.join(x),axis=1))"
   ]
  },
  {
   "cell_type": "code",
   "execution_count": 43,
   "id": "b0032a09",
   "metadata": {
    "scrolled": true
   },
   "outputs": [],
   "source": [
    "vihod.to_csv('B:\\Учёба\\диплом\\datasets\\Antivir_dataset.csv')"
   ]
  },
  {
   "cell_type": "code",
   "execution_count": 14,
   "id": "012f8f68",
   "metadata": {},
   "outputs": [
    {
     "data": {
      "text/html": [
       "<div>\n",
       "<style scoped>\n",
       "    .dataframe tbody tr th:only-of-type {\n",
       "        vertical-align: middle;\n",
       "    }\n",
       "\n",
       "    .dataframe tbody tr th {\n",
       "        vertical-align: top;\n",
       "    }\n",
       "\n",
       "    .dataframe thead th {\n",
       "        text-align: right;\n",
       "    }\n",
       "</style>\n",
       "<table border=\"1\" class=\"dataframe\">\n",
       "  <thead>\n",
       "    <tr style=\"text-align: right;\">\n",
       "      <th></th>\n",
       "      <th>0</th>\n",
       "    </tr>\n",
       "  </thead>\n",
       "  <tbody>\n",
       "    <tr>\n",
       "      <th>1</th>\n",
       "      <td>cb1f6690 87fa6af9 5b261d1d 012129ff 8370a44c 8...</td>\n",
       "    </tr>\n",
       "    <tr>\n",
       "      <th>1</th>\n",
       "      <td>a2da64f7 be238f98 ca0e1e9e 43632894 324084ec d...</td>\n",
       "    </tr>\n",
       "    <tr>\n",
       "      <th>1</th>\n",
       "      <td>3cb25348 5ff1d61a e07f25c7 1f38e903 3188e4c1 0...</td>\n",
       "    </tr>\n",
       "    <tr>\n",
       "      <th>1</th>\n",
       "      <td>b0cbdd14 7c2d2e89 1eea7545 2f2d399f 8d4418a3 f...</td>\n",
       "    </tr>\n",
       "    <tr>\n",
       "      <th>1</th>\n",
       "      <td>7b5a7225 46df348b 5f4e0b49 2713de6f 144e2207 3...</td>\n",
       "    </tr>\n",
       "    <tr>\n",
       "      <th>...</th>\n",
       "      <td>...</td>\n",
       "    </tr>\n",
       "    <tr>\n",
       "      <th>12</th>\n",
       "      <td>c3e7e058 827e9835 b65eef2c 19358f73 b7efa9fe 4...</td>\n",
       "    </tr>\n",
       "    <tr>\n",
       "      <th>12</th>\n",
       "      <td>dabe0ab1 1391273d 82fb04ca f034e178 6345b6ce 3...</td>\n",
       "    </tr>\n",
       "    <tr>\n",
       "      <th>12</th>\n",
       "      <td>5c105905 c183d1e4 2fb7e0d1 a2ecfd4d 6e6d6827 f...</td>\n",
       "    </tr>\n",
       "    <tr>\n",
       "      <th>12</th>\n",
       "      <td>3ab9bd7e 99e7bab7 7425f4b6 91da657d 18ec58ae 3...</td>\n",
       "    </tr>\n",
       "    <tr>\n",
       "      <th>12</th>\n",
       "      <td>8ad1d932 cf00ec75 88a4e659 724e2499 2e5e4192 f...</td>\n",
       "    </tr>\n",
       "  </tbody>\n",
       "</table>\n",
       "<p>13000 rows × 1 columns</p>\n",
       "</div>"
      ],
      "text/plain": [
       "                                                    0\n",
       "1   cb1f6690 87fa6af9 5b261d1d 012129ff 8370a44c 8...\n",
       "1   a2da64f7 be238f98 ca0e1e9e 43632894 324084ec d...\n",
       "1   3cb25348 5ff1d61a e07f25c7 1f38e903 3188e4c1 0...\n",
       "1   b0cbdd14 7c2d2e89 1eea7545 2f2d399f 8d4418a3 f...\n",
       "1   7b5a7225 46df348b 5f4e0b49 2713de6f 144e2207 3...\n",
       "..                                                ...\n",
       "12  c3e7e058 827e9835 b65eef2c 19358f73 b7efa9fe 4...\n",
       "12  dabe0ab1 1391273d 82fb04ca f034e178 6345b6ce 3...\n",
       "12  5c105905 c183d1e4 2fb7e0d1 a2ecfd4d 6e6d6827 f...\n",
       "12  3ab9bd7e 99e7bab7 7425f4b6 91da657d 18ec58ae 3...\n",
       "12  8ad1d932 cf00ec75 88a4e659 724e2499 2e5e4192 f...\n",
       "\n",
       "[13000 rows x 1 columns]"
      ]
     },
     "execution_count": 14,
     "metadata": {},
     "output_type": "execute_result"
    }
   ],
   "source": [
    "vihod"
   ]
  },
  {
   "cell_type": "code",
   "execution_count": null,
   "id": "aabf5337",
   "metadata": {},
   "outputs": [],
   "source": []
  }
 ],
 "metadata": {
  "kernelspec": {
   "display_name": "Python 3",
   "language": "python",
   "name": "python3"
  },
  "language_info": {
   "codemirror_mode": {
    "name": "ipython",
    "version": 3
   },
   "file_extension": ".py",
   "mimetype": "text/x-python",
   "name": "python",
   "nbconvert_exporter": "python",
   "pygments_lexer": "ipython3",
   "version": "3.9.4"
  }
 },
 "nbformat": 4,
 "nbformat_minor": 5
}
