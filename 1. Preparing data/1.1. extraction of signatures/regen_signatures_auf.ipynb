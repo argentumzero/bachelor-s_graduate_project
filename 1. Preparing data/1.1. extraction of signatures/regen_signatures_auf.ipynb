{
 "cells": [
  {
   "cell_type": "code",
   "execution_count": 18,
   "id": "3a4c742e",
   "metadata": {},
   "outputs": [
    {
     "name": "stderr",
     "output_type": "stream",
     "text": [
      "<ipython-input-18-0208e8fcee7c>:8: FutureWarning: pandas.io.json.json_normalize is deprecated, use pandas.json_normalize instead\n",
      "  df_aus = pd.DataFrame.from_dict(json_normalize(dataset_aus), orient = 'columns')\n"
     ]
    }
   ],
   "source": [
    "# достаем сингнатуры из AUSParlam, их около 28 штук.\n",
    "import numpy as np\n",
    "import pandas as pd\n",
    "import json\n",
    "import openpyxl\n",
    "from pandas.io.json import json_normalize\n",
    "with open(\"B:\\Учёба\\диплом\\сигнатуры\\AUS\\Aus.json\") as filename:\n",
    "    dataset_aus = json.load(filename)\n",
    "df_aus = pd.DataFrame.from_dict(json_normalize(dataset_aus), orient = 'columns')\n",
    "sigs_aus = np.array(df_aus.iloc[:,4:])\n",
    "arr_aus = np.array([])\n",
    "arr_aus = [np.append(arr_aus,sigs_aus[:,i][0].split()) for i in np.arange(len(sigs_aus[0]))]\n",
    "arr_aus = np.unique(np.concatenate([arr_aus[i] for i in np.arange(len(sigs_aus[0]))]))\n",
    "df_aus = pd.DataFrame(arr_aus, columns = ['AUS'])\n",
    "with pd.ExcelWriter(\"B:\\Учёба\\диплом\\сигнатуры\\signature.xlsx\", mode='a') as writer:\n",
    "    df_aus.to_excel(writer)"
   ]
  },
  {
   "cell_type": "code",
   "execution_count": null,
   "id": "f4d35687",
   "metadata": {},
   "outputs": [],
   "source": []
  }
 ],
 "metadata": {
  "kernelspec": {
   "display_name": "Python 3",
   "language": "python",
   "name": "python3"
  },
  "language_info": {
   "codemirror_mode": {
    "name": "ipython",
    "version": 3
   },
   "file_extension": ".py",
   "mimetype": "text/x-python",
   "name": "python",
   "nbconvert_exporter": "python",
   "pygments_lexer": "ipython3",
   "version": "3.9.4"
  }
 },
 "nbformat": 4,
 "nbformat_minor": 5
}
