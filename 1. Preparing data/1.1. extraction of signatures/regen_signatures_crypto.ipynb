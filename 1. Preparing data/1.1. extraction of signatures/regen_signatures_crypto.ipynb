{
 "cells": [
  {
   "cell_type": "code",
   "execution_count": 8,
   "id": "2dae9d15",
   "metadata": {},
   "outputs": [
    {
     "name": "stderr",
     "output_type": "stream",
     "text": [
      "<ipython-input-8-5048945eba85>:11: FutureWarning: pandas.io.json.json_normalize is deprecated, use pandas.json_normalize instead\n",
      "  df_iot = pd.DataFrame.from_dict(json_normalize(dataset_iot), orient='columns')\n",
      "<ipython-input-8-5048945eba85>:14: FutureWarning: pandas.io.json.json_normalize is deprecated, use pandas.json_normalize instead\n",
      "  df_krak = pd.DataFrame.from_dict(json_normalize(dataset_krak), orient='columns')\n"
     ]
    }
   ],
   "source": [
    "# достаем сигнатуры криптолокера, 143 штуки\n",
    "import pandas as pd\n",
    "import random\n",
    "import numpy as np\n",
    "import json\n",
    "from pandas.io.json import json_normalize\n",
    "import openpyxl\n",
    "df_crypto1 = pd.read_json(\"B:\\Учёба\\диплом\\сигнатуры\\Crypto\\Crypto1.json\")\n",
    "df_crypto2 = pd.read_json(\"B:\\Учёба\\диплом\\сигнатуры\\Crypto\\Crypto2.json\")\n",
    "with open(\"B:\\Учёба\\диплом\\сигнатуры\\Crypto\\iot.json\") as filename:\n",
    "    dataset_iot = json.load(filename)\n",
    "df_iot = pd.DataFrame.from_dict(json_normalize(dataset_iot), orient='columns')\n",
    "with open(\"B:\\Учёба\\диплом\\сигнатуры\\Crypto\\KrakenCryptor.json\") as filename1:\n",
    "    dataset_krak = json.load(filename1)\n",
    "df_krak = pd.DataFrame.from_dict(json_normalize(dataset_krak), orient='columns')"
   ]
  },
  {
   "cell_type": "code",
   "execution_count": 79,
   "id": "ce2a41dc",
   "metadata": {},
   "outputs": [],
   "source": [
    "sig1 = df_crypto1.iloc[16:,-1:]\n",
    "sig1_str = sig1.iloc[-1:,-1:].values\n",
    "sig11_str = sig1_str[0][0]\n",
    "sig1_anti = sig1.iloc[:-1,-1:].values\n",
    "arr_sig1 = np.array([])\n",
    "arr_sig1 = [np.append(arr_sig1,sig1_anti[i][0].split()) for i in np.arange(len(sig1_anti))]\n",
    "arr_sig1 = np.concatenate([arr_sig1[i] for i in np.arange(len(arr_sig1))])\n",
    "sigs_str = np.array(sig11_str.split())\n",
    "arr_str = sigs_str[random.choices(np.arange(len(sigs_str)), k=20)]\n",
    "signas_crypto1 = np.unique(np.concatenate([arr_sig1,arr_str]))\n",
    "# signas_crypto1 первый список сигнатур в крипторе"
   ]
  },
  {
   "cell_type": "code",
   "execution_count": 81,
   "id": "9136839c",
   "metadata": {},
   "outputs": [
    {
     "data": {
      "text/plain": [
       "array(['0574e33a', '0e75946d', '0f92e4e5', '18784c71', '198c37af',\n",
       "       '1d2a8f4e', '1ed1480e', '2041a47f', '209a3ad0', '24a02409',\n",
       "       '2c27f06a', '2de98728', '2f77671b', '39b8d13f', '3c17e453',\n",
       "       '3c31d3d7', '3f25859f', '57a225a0', '5b51ab9b', '6188aaae',\n",
       "       '62c1e75e', '6877ccb3', '6c8f2200', '6d6eb092', '70aff9b6',\n",
       "       '70bb014a', '765a2175', '7886f543', '7d28db8e', '8201259a',\n",
       "       '82879052', '86574358', '8e6e3268', '9350e53d', '94d8a174',\n",
       "       '955aca05', '95939eca', '98e83379', '9cf70059', '9feab0d0',\n",
       "       'a2b823aa', 'a44c8151', 'a53108f7', 'a59985c0', 'adf57228',\n",
       "       'adf96529', 'b6f5e4f9', 'ba06c28a', 'bb838715', 'c022fb2c',\n",
       "       'c137f76b', 'c339be59', 'c5034740', 'c6315936', 'cebb6e84',\n",
       "       'd33ed47f', 'd7eeb89e', 'e08e278f', 'f149eab3', 'f316efb6',\n",
       "       'f4195bc8', 'faab9ee4', 'fc3b9992'], dtype='<U32')"
      ]
     },
     "execution_count": 81,
     "metadata": {},
     "output_type": "execute_result"
    }
   ],
   "source": [
    "sig2 = df_crypto2.iloc[-4:,-1:]\n",
    "sig2_str = sig2.iloc[-1:,-1:].values\n",
    "sig21_str = sig1_str[0][0]\n",
    "sig2_anti = sig1.iloc[:-1,-1:].values\n",
    "arr_sig2 = np.array([])\n",
    "arr_sig2 = [np.append(arr_sig2,sig2_anti[i][0].split()) for i in np.arange(len(sig2_anti))]\n",
    "arr_sig2 = np.concatenate([arr_sig2[i] for i in np.arange(len(arr_sig2))])\n",
    "sigs_str = np.array(sig21_str.split())\n",
    "arr_str = sigs_str[random.choices(np.arange(len(sigs_str)), k=10)]\n",
    "signas_crypto2 = np.unique(np.concatenate([arr_sig2,arr_str]))\n",
    "# signas_crypto2 второй список сигнатур в крипторе"
   ]
  },
  {
   "cell_type": "code",
   "execution_count": 94,
   "id": "8084d17c",
   "metadata": {},
   "outputs": [],
   "source": [
    "iot_anti = df_iot.iloc[0, 10:].values\n",
    "arr_iot = np.array([])\n",
    "arr_iot = [np.append(arr_iot, i.split()) for i in iot_anti]\n",
    "signas_iot = np.unique(np.concatenate([i for i in arr_iot]))\n",
    "# signas_iot третий список сигнатур"
   ]
  },
  {
   "cell_type": "code",
   "execution_count": 92,
   "id": "2b80ad53",
   "metadata": {},
   "outputs": [
    {
     "data": {
      "text/plain": [
       "array(['0f8f538a', '0fd0ecbc', '16c2890e', '18ccfd6a', '1dd02625',\n",
       "       '1e2399b3', '246c12f1', '251283c3', '2c92fcad', '2d285c38',\n",
       "       '314a2f37', '334f3974', '33764fa5', '35d2ac68', '43b29bad',\n",
       "       '4679f6d3', '4a59f363', '4d6c12fa', '54f718e8', '57038a25',\n",
       "       '5977efc1', '5d7fb796', '6666cd76', '68bd14ff', '69a2c0dd',\n",
       "       '6cd32257', '6f6708d0', '6f7959af', '756b1a13', '76211256',\n",
       "       '7c2d2e89', '8396809b', '8688a336', '8fa14cdd', '95ac32ec',\n",
       "       '9624016a', 'a87ff679', 'a8f266df', 'aa42bac1', 'ade79259',\n",
       "       'ae70f313', 'aefc2910', 'bee07458', 'c7d5a9a7', 'c93c51ee',\n",
       "       'caf7d410', 'd6ba11b5', 'd9243828', 'e21ea4b4', 'e4894e22',\n",
       "       'e6bea941', 'e892ba15', 'f42acb1e', 'fa55c8fb'], dtype='<U32')"
      ]
     },
     "execution_count": 92,
     "metadata": {},
     "output_type": "execute_result"
    }
   ],
   "source": [
    "krak_anti = df_krak.iloc[0, 17:].values\n",
    "arr_krak = np.array([])\n",
    "arr_krak = [np.append(arr_krak, i.split()) for i in krak_anti]\n",
    "signas_krak = np.unique(np.concatenate([i for i in arr_krak]))\n",
    "# signas_krak четвертый список сигнатур"
   ]
  },
  {
   "cell_type": "code",
   "execution_count": 97,
   "id": "47668866",
   "metadata": {},
   "outputs": [],
   "source": [
    "crypto_signas = np.unique(np.concatenate([signas_crypto1, signas_crypto2, signas_iot, signas_krak]))\n",
    "df_crypto = pd.DataFrame(crypto_signas, columns = ['Crypto'])\n",
    "with pd.ExcelWriter(\"B:\\Учёба\\диплом\\сигнатуры\\signature.xlsx\", mode='a') as writer:\n",
    "    df_crypto.to_excel(writer)"
   ]
  },
  {
   "cell_type": "code",
   "execution_count": null,
   "id": "e2fcb9dc",
   "metadata": {},
   "outputs": [],
   "source": []
  }
 ],
 "metadata": {
  "kernelspec": {
   "display_name": "Python 3",
   "language": "python",
   "name": "python3"
  },
  "language_info": {
   "codemirror_mode": {
    "name": "ipython",
    "version": 3
   },
   "file_extension": ".py",
   "mimetype": "text/x-python",
   "name": "python",
   "nbconvert_exporter": "python",
   "pygments_lexer": "ipython3",
   "version": "3.9.4"
  }
 },
 "nbformat": 4,
 "nbformat_minor": 5
}
