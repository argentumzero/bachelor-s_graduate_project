{
 "cells": [
  {
   "cell_type": "code",
   "execution_count": 2,
   "id": "858f35bb",
   "metadata": {},
   "outputs": [
    {
     "name": "stderr",
     "output_type": "stream",
     "text": [
      "<ipython-input-2-8a93f790b7a7>:9: FutureWarning: pandas.io.json.json_normalize is deprecated, use pandas.json_normalize instead\n",
      "  df_ei = pd.DataFrame.from_dict(json_normalize(dataset_ei), orient='columns')\n"
     ]
    }
   ],
   "source": [
    "# около 110 штук\n",
    "import pandas as pd\n",
    "import random\n",
    "import numpy as np\n",
    "import json\n",
    "from pandas.io.json import json_normalize\n",
    "import openpyxl\n",
    "with open(\"B:\\Учёба\\диплом\\сигнатуры\\Equation\\EmotetInvoice.json\") as filename:\n",
    "    dataset_ei = json.load(filename)\n",
    "df_ei = pd.DataFrame.from_dict(json_normalize(dataset_ei), orient='columns')\n",
    "df_eq1 = pd.read_json(\"B:\\Учёба\\диплом\\сигнатуры\\Equation\\Equation_drug.json\")\n",
    "df_eq2 = pd.read_json(\"B:\\Учёба\\диплом\\сигнатуры\\Equation\\Equation_grok.json\")"
   ]
  },
  {
   "cell_type": "code",
   "execution_count": 5,
   "id": "6a0512db",
   "metadata": {},
   "outputs": [
    {
     "data": {
      "text/plain": [
       "array(['1ed18630', '2f2d399f', '2f54d087', '3cbbc44e', '3d801aa5',\n",
       "       '41678c0e', '45086c6f', '507f6f7f', '52f1f6dd', '5c2890f3',\n",
       "       '617dab43', '639b6841', '72173c30', '7b946538', '7da79162',\n",
       "       '7ffa6cbb', '832bd0de', '8fcbdf33', '98e83379', 'b5978eec',\n",
       "       'ce46e667', 'cfc3741c', 'cfcd2084', 'dfff0a7f', 'e88daeb3',\n",
       "       'e8ebfb8e', 'f4ee103f', 'fa816edb'], dtype='<U32')"
      ]
     },
     "execution_count": 5,
     "metadata": {},
     "output_type": "execute_result"
    }
   ],
   "source": [
    "ei_anti = df_ei.iloc[0,-10:].values\n",
    "arr_ei = np.array([])\n",
    "arr_ei = [np.append(arr_ei, i.split()) for i in ei_anti]\n",
    "signas_ei = np.unique(np.concatenate([i for i in arr_ei]))\n",
    "# signas_ei first signas list"
   ]
  },
  {
   "cell_type": "code",
   "execution_count": 18,
   "id": "7076dec1",
   "metadata": {},
   "outputs": [
    {
     "data": {
      "text/plain": [
       "array(['04f956e1', '1873333b', '1970c5fb', '20ee6910', '23c33b4b',\n",
       "       '2485762d', '333f0f3c', '3bfb9cee', '3e287ab6', '3eeb8a86',\n",
       "       '3ef8c837', '43c274a0', '442d1489', '4791d6b8', '510e7b66',\n",
       "       '57dbb3c9', '5af2c730', '5cf0bd36', '5e711fef', '61702904',\n",
       "       '6a0addf6', '6a148e1d', '707c0bc2', '7430b4cd', '74cd49dd',\n",
       "       '78e7a53f', '79267ca1', '7e2ca3c2', '86c2e3c7', '873ae4b5',\n",
       "       '8e53ccba', '92267c9c', '95c2d075', '963aca5e', '9b640d5a',\n",
       "       'a2d78c4b', 'a8a7848d', 'a93d3823', 'ab132499', 'ad70fff1',\n",
       "       'ad76debc', 'aef6c81d', 'b3ced088', 'b6377c63', 'b9cb6d9c',\n",
       "       'bd5d57b4', 'c6b9b374', 'cb2b3c72', 'cc2be57c', 'cefc287a',\n",
       "       'd17b9395', 'd372cf07', 'd4199c59', 'd42939d5', 'd9a23d86',\n",
       "       'e346d7b4', 'e6e91a7b', 'f28720a1', 'f3c06359', 'fa7f0089',\n",
       "       'fe9a890f', 'fefbf6ae'], dtype='<U32')"
      ]
     },
     "execution_count": 18,
     "metadata": {},
     "output_type": "execute_result"
    }
   ],
   "source": [
    "eq1_sig = df_eq1.iloc[-3:,-1:]\n",
    "eq1_anti = eq1_sig.iloc[:2].values\n",
    "eq1_str = eq1_sig.iloc[-1].values\n",
    "arr_eq1 = np.array([])\n",
    "arr_eq1 = [np.append(arr_eq1,eq1_anti[i][0].split()) for i in np.arange(len(eq1_anti))]\n",
    "arr_eq1 = np.concatenate([arr_eq1[i] for i in np.arange(len(arr_eq1))])\n",
    "sigs_streq1 = np.array(eq1_str[0].split())\n",
    "arr_streq1 = sigs_streq1[random.choices(np.arange(len(sigs_streq1)), k=20)]\n",
    "signas_eq1 = np.unique(np.concatenate([arr_eq1,arr_streq1]))\n",
    "# signas_eq1 second list"
   ]
  },
  {
   "cell_type": "code",
   "execution_count": 28,
   "id": "c62fd5e3",
   "metadata": {},
   "outputs": [],
   "source": [
    "eq2_anti = df_eq2.iloc[-3:-1,-1].values\n",
    "eq2_str = df_eq2.iloc[-1:,-1].values\n",
    "arr_eq2 = np.array([])\n",
    "arr_eq2 = [np.append(arr_eq2,eq2_anti[i][0].split()) for i in np.arange(len(eq2_anti))]\n",
    "arr_eq2 = np.concatenate([arr_eq2[i] for i in np.arange(len(arr_eq2))])\n",
    "sigs_streq2 = np.array(eq2_str[0].split())\n",
    "arr_streq2 = sigs_streq2[random.choices(np.arange(len(sigs_streq2)), k=20)]\n",
    "signas_eq2 = np.unique(np.concatenate([arr_eq2,arr_streq2]))\n",
    "# # signas_eq2 second list"
   ]
  },
  {
   "cell_type": "code",
   "execution_count": 29,
   "id": "fcc4de0c",
   "metadata": {},
   "outputs": [],
   "source": [
    "equation_signas = np.unique(np.concatenate([signas_ei,signas_eq1,signas_eq2]))\n",
    "df_eqsig = pd.DataFrame(equation_signas, columns = ['Equation'])\n",
    "with pd.ExcelWriter(\"B:\\Учёба\\диплом\\сигнатуры\\signature.xlsx\", mode='a') as writer:\n",
    "    df_eqsig.to_excel(writer)"
   ]
  },
  {
   "cell_type": "code",
   "execution_count": null,
   "id": "fd533807",
   "metadata": {},
   "outputs": [],
   "source": []
  }
 ],
 "metadata": {
  "kernelspec": {
   "display_name": "Python 3",
   "language": "python",
   "name": "python3"
  },
  "language_info": {
   "codemirror_mode": {
    "name": "ipython",
    "version": 3
   },
   "file_extension": ".py",
   "mimetype": "text/x-python",
   "name": "python",
   "nbconvert_exporter": "python",
   "pygments_lexer": "ipython3",
   "version": "3.9.4"
  }
 },
 "nbformat": 4,
 "nbformat_minor": 5
}
