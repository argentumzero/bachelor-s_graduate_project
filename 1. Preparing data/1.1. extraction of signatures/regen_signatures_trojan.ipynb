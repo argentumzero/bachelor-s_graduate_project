{
 "cells": [
  {
   "cell_type": "code",
   "execution_count": 12,
   "id": "c734f3f3",
   "metadata": {},
   "outputs": [
    {
     "name": "stderr",
     "output_type": "stream",
     "text": [
      "<ipython-input-12-0d80ebd14c88>:9: FutureWarning: pandas.io.json.json_normalize is deprecated, use pandas.json_normalize instead\n",
      "  df_2 = pd.DataFrame.from_dict(json_normalize(dataset_2), orient='columns')\n"
     ]
    }
   ],
   "source": [
    "# сигнатуры трояна, 800+\n",
    "import pandas as pd\n",
    "import random\n",
    "import numpy as np\n",
    "import json\n",
    "from pandas.io.json import json_normalize\n",
    "import openpyxl\n",
    "with open(\"B:\\Учёба\\диплом\\сигнатуры\\Trojans\\i2.json\") as filename:\n",
    "    dataset_2 = json.load(filename)\n",
    "df_2 = pd.DataFrame.from_dict(json_normalize(dataset_2), orient='columns')\n",
    "df_1 = pd.read_json(\"B:\\Учёба\\диплом\\сигнатуры\\Trojans\\i1.json\")\n",
    "df_3 = pd.read_json(\"B:\\Учёба\\диплом\\сигнатуры\\Trojans\\i3.json\")\n",
    "df_4 = pd.read_json(\"B:\\Учёба\\диплом\\сигнатуры\\Trojans\\i4.json\")\n",
    "df_5 = pd.read_json(\"B:\\Учёба\\диплом\\сигнатуры\\Trojans\\i5.json\")\n",
    "df_6 = pd.read_json(\"B:\\Учёба\\диплом\\сигнатуры\\Trojans\\i6.json\")\n",
    "df_7 = pd.read_json(\"B:\\Учёба\\диплом\\сигнатуры\\Trojans\\i7.json\")\n",
    "def preobr(arrs):\n",
    "    arr = np.array([])\n",
    "    arr = [np.append(arr, i.split()) for i in arrs]\n",
    "    return np.unique(np.concatenate([i for i in arr]))"
   ]
  },
  {
   "cell_type": "code",
   "execution_count": 13,
   "id": "cbec6a3c",
   "metadata": {},
   "outputs": [],
   "source": [
    "anti_2=preobr(df_2.iloc[0:,-19:].values[0])"
   ]
  },
  {
   "cell_type": "code",
   "execution_count": 37,
   "id": "044db27d",
   "metadata": {},
   "outputs": [
    {
     "data": {
      "text/plain": [
       "array(['b2fcfc12', '4a10a932', 'e63de8a5', '9e4a5618', '0f4137ed',\n",
       "       '75a88526', '4a10a932', '871f2464', '3bf937c9', '54b53072',\n",
       "       '1a45cb12', 'b73d30da', '4a10a932', 'dff9c7fc', '4a10a932',\n",
       "       'a88147fa', '6a0addf6', '48610294', 'e63de8a5', '4a10a932',\n",
       "       '26f6a344', 'fde008d3', 'f0e90580', '7211bc06', '41075444',\n",
       "       'd0463a46', 'd5c6c7ad', '8e085d2e', '462c5aea', '26185df0',\n",
       "       '5b323f7b', '5d71b857', 'ef73af19', '733a0398', 'dc11a7db',\n",
       "       '26185df0', '7c24a749', '126f03d6', '07dfab11', '44ae1d79',\n",
       "       'c12132b3', 'b8ca5f10', '8bd74126', '391b2fc0', 'fbb44b44',\n",
       "       'e83b49da', 'c12132b3', 'd911ba77', 'cd4de81c', '6be7fbaf',\n",
       "       '3e08aab0', 'f0501d6f', '8bd74126', 'e0574c89', '6be7fbaf',\n",
       "       'd56870c7', 'ae6bf81c', 'cc611e73', '9373fe2f', 'c8be7f58'],\n",
       "      dtype='<U8')"
      ]
     },
     "execution_count": 37,
     "metadata": {},
     "output_type": "execute_result"
    }
   ],
   "source": [
    "spise_1_5 = [df_1.iloc[-2:-1,-1].values[0],df_3.iloc[-4:-3,-1].values[0],df_5.iloc[-13:-4,-1].values[0]]\n",
    "def razbien(arrs):\n",
    "    return np.array(arrs.split())\n",
    "anti_1_5 = [razbien(i) for i in spise_1_5]\n",
    "anti_1_5 = np.concatenate([i for i in anti_1_5])\n",
    "def new_sigs(arrs):\n",
    "    new_arrs = np.array(arrs.split())\n",
    "    return new_arrs[random.choices(np.arange(len(new_arrs)), k=20)]\n",
    "spise_4_7 = [df_4.iloc[5:,-1:].values[0][0],df_6.iloc[-1:,-1:].values[0][0],df_7.iloc[-1:,-1:].values[0][0]]\n",
    "anti_4_7 = [new_sigs(i) for i in spise_4_7]\n",
    "anti_4_7 = np.concatenate([i for i in anti_4_7])\n",
    "anti_4_7"
   ]
  },
  {
   "cell_type": "code",
   "execution_count": 39,
   "id": "b3c6e3b5",
   "metadata": {},
   "outputs": [],
   "source": [
    "signas_troj = np.unique(np.concatenate([anti_2,anti_1_5,anti_4_7]))\n",
    "df_troj = pd.DataFrame(signas_troj, columns = ['Trojan'])\n",
    "with pd.ExcelWriter(\"B:\\Учёба\\диплом\\сигнатуры\\signature.xlsx\", mode='a') as writer:\n",
    "    df_troj.to_excel(writer)"
   ]
  },
  {
   "cell_type": "code",
   "execution_count": null,
   "id": "5568f969",
   "metadata": {},
   "outputs": [],
   "source": []
  }
 ],
 "metadata": {
  "kernelspec": {
   "display_name": "Python 3",
   "language": "python",
   "name": "python3"
  },
  "language_info": {
   "codemirror_mode": {
    "name": "ipython",
    "version": 3
   },
   "file_extension": ".py",
   "mimetype": "text/x-python",
   "name": "python",
   "nbconvert_exporter": "python",
   "pygments_lexer": "ipython3",
   "version": "3.9.4"
  }
 },
 "nbformat": 4,
 "nbformat_minor": 5
}
