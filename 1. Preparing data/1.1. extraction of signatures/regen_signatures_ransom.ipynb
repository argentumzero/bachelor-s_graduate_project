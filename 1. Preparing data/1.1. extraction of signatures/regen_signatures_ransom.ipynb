{
 "cells": [
  {
   "cell_type": "code",
   "execution_count": 4,
   "id": "3a09d430",
   "metadata": {},
   "outputs": [
    {
     "name": "stderr",
     "output_type": "stream",
     "text": [
      "<ipython-input-4-9cba6626a1f6>:9: FutureWarning: pandas.io.json.json_normalize is deprecated, use pandas.json_normalize instead\n",
      "  df_1 = pd.DataFrame.from_dict(json_normalize(dataset_1), orient='columns')\n",
      "<ipython-input-4-9cba6626a1f6>:12: FutureWarning: pandas.io.json.json_normalize is deprecated, use pandas.json_normalize instead\n",
      "  df_2 = pd.DataFrame.from_dict(json_normalize(dataset_2), orient='columns')\n",
      "<ipython-input-4-9cba6626a1f6>:15: FutureWarning: pandas.io.json.json_normalize is deprecated, use pandas.json_normalize instead\n",
      "  df_3 = pd.DataFrame.from_dict(json_normalize(dataset_3), orient='columns')\n",
      "<ipython-input-4-9cba6626a1f6>:18: FutureWarning: pandas.io.json.json_normalize is deprecated, use pandas.json_normalize instead\n",
      "  df_5 = pd.DataFrame.from_dict(json_normalize(dataset_5), orient='columns')\n",
      "<ipython-input-4-9cba6626a1f6>:21: FutureWarning: pandas.io.json.json_normalize is deprecated, use pandas.json_normalize instead\n",
      "  df_6 = pd.DataFrame.from_dict(json_normalize(dataset_6), orient='columns')\n"
     ]
    },
    {
     "data": {
      "text/html": [
       "<div>\n",
       "<style scoped>\n",
       "    .dataframe tbody tr th:only-of-type {\n",
       "        vertical-align: middle;\n",
       "    }\n",
       "\n",
       "    .dataframe tbody tr th {\n",
       "        vertical-align: top;\n",
       "    }\n",
       "\n",
       "    .dataframe thead th {\n",
       "        text-align: right;\n",
       "    }\n",
       "</style>\n",
       "<table border=\"1\" class=\"dataframe\">\n",
       "  <thead>\n",
       "    <tr style=\"text-align: right;\">\n",
       "      <th></th>\n",
       "      <th>api_resolv</th>\n",
       "      <th>cmd_exec</th>\n",
       "      <th>file_access</th>\n",
       "      <th>file_delete</th>\n",
       "      <th>file_drop</th>\n",
       "      <th>file_read</th>\n",
       "      <th>file_write</th>\n",
       "      <th>mutex_access</th>\n",
       "      <th>net_con</th>\n",
       "      <th>net_dns</th>\n",
       "      <th>...</th>\n",
       "      <th>sig_reads_self</th>\n",
       "      <th>sig_recon_checkip</th>\n",
       "      <th>sig_script_tool_executed</th>\n",
       "      <th>sig_static_detection</th>\n",
       "      <th>sig_stealth_timeout</th>\n",
       "      <th>sig_stealth_window</th>\n",
       "      <th>sig_suspicious_command_tools</th>\n",
       "      <th>sig_task_creation</th>\n",
       "      <th>sig_uses_windows_utilities</th>\n",
       "      <th>sig_virus</th>\n",
       "    </tr>\n",
       "  </thead>\n",
       "  <tbody>\n",
       "    <tr>\n",
       "      <th>0</th>\n",
       "      <td>47327def 21fe109f dec3713e 1a19b680 2572f7e8 f...</td>\n",
       "      <td>dca90348 099af53f d2fd1a3e a7ecd823 96a75bdb 7...</td>\n",
       "      <td>0b9ba9d1 cbdfff0b 9dc94a83 27b8c37f 2156c690 a...</td>\n",
       "      <td>8242a76e 985ef744 8c71b88c 2510c390 dc634e20 3...</td>\n",
       "      <td>00000000_89bbb2ac 00008400_7d9c05c1 00000000_5...</td>\n",
       "      <td>0b9ba9d1 cbdfff0b 9dc94a83 27b8c37f 2156c690 a...</td>\n",
       "      <td>0b9ba9d1 cbdfff0b 9dc94a83 27b8c37f 2156c690 a...</td>\n",
       "      <td>16ca6023 a5c1cb23 5b6f4861 9027d7b0 cd2719bf 2...</td>\n",
       "      <td>152649df b8139230 75ccf0be 5f24b931 61234864 e...</td>\n",
       "      <td>da511144 966d6e06 4d236d9a 0477980f</td>\n",
       "      <td>...</td>\n",
       "      <td>c0ce99b9 87ca4f29 e22b7b09 aa7fcbbd b713f85f 0...</td>\n",
       "      <td>b1f9d200</td>\n",
       "      <td>c703593a 29021676 56334c6c d1b00449 f1c3ab41</td>\n",
       "      <td>f1d27ca8 bdcd5438 3e6407d8 fe9be8fc c8bd863d d...</td>\n",
       "      <td>e969ad33</td>\n",
       "      <td>8a8c1cd3 8895e63c</td>\n",
       "      <td>a14938b5 26358f3d 9bea4771 d5ba7110 e794132c 5...</td>\n",
       "      <td>9297b53a e7bdb89c 9aadca6e 3d6d3c13</td>\n",
       "      <td>07be78b5 f094805d d1b00449 8e4e1ee3 dcea9041 3...</td>\n",
       "      <td>91f80f11 8c71b88c f0ea1668 949258fe 8b55c7c7 8...</td>\n",
       "    </tr>\n",
       "  </tbody>\n",
       "</table>\n",
       "<p>1 rows × 50 columns</p>\n",
       "</div>"
      ],
      "text/plain": [
       "                                          api_resolv  \\\n",
       "0  47327def 21fe109f dec3713e 1a19b680 2572f7e8 f...   \n",
       "\n",
       "                                            cmd_exec  \\\n",
       "0  dca90348 099af53f d2fd1a3e a7ecd823 96a75bdb 7...   \n",
       "\n",
       "                                         file_access  \\\n",
       "0  0b9ba9d1 cbdfff0b 9dc94a83 27b8c37f 2156c690 a...   \n",
       "\n",
       "                                         file_delete  \\\n",
       "0  8242a76e 985ef744 8c71b88c 2510c390 dc634e20 3...   \n",
       "\n",
       "                                           file_drop  \\\n",
       "0  00000000_89bbb2ac 00008400_7d9c05c1 00000000_5...   \n",
       "\n",
       "                                           file_read  \\\n",
       "0  0b9ba9d1 cbdfff0b 9dc94a83 27b8c37f 2156c690 a...   \n",
       "\n",
       "                                          file_write  \\\n",
       "0  0b9ba9d1 cbdfff0b 9dc94a83 27b8c37f 2156c690 a...   \n",
       "\n",
       "                                        mutex_access  \\\n",
       "0  16ca6023 a5c1cb23 5b6f4861 9027d7b0 cd2719bf 2...   \n",
       "\n",
       "                                             net_con  \\\n",
       "0  152649df b8139230 75ccf0be 5f24b931 61234864 e...   \n",
       "\n",
       "                               net_dns  ...  \\\n",
       "0  da511144 966d6e06 4d236d9a 0477980f  ...   \n",
       "\n",
       "                                      sig_reads_self sig_recon_checkip  \\\n",
       "0  c0ce99b9 87ca4f29 e22b7b09 aa7fcbbd b713f85f 0...          b1f9d200   \n",
       "\n",
       "                       sig_script_tool_executed  \\\n",
       "0  c703593a 29021676 56334c6c d1b00449 f1c3ab41   \n",
       "\n",
       "                                sig_static_detection sig_stealth_timeout  \\\n",
       "0  f1d27ca8 bdcd5438 3e6407d8 fe9be8fc c8bd863d d...            e969ad33   \n",
       "\n",
       "  sig_stealth_window                       sig_suspicious_command_tools  \\\n",
       "0  8a8c1cd3 8895e63c  a14938b5 26358f3d 9bea4771 d5ba7110 e794132c 5...   \n",
       "\n",
       "                     sig_task_creation  \\\n",
       "0  9297b53a e7bdb89c 9aadca6e 3d6d3c13   \n",
       "\n",
       "                          sig_uses_windows_utilities  \\\n",
       "0  07be78b5 f094805d d1b00449 8e4e1ee3 dcea9041 3...   \n",
       "\n",
       "                                           sig_virus  \n",
       "0  91f80f11 8c71b88c f0ea1668 949258fe 8b55c7c7 8...  \n",
       "\n",
       "[1 rows x 50 columns]"
      ]
     },
     "execution_count": 4,
     "metadata": {},
     "output_type": "execute_result"
    }
   ],
   "source": [
    "# извлечение сигнатур вымогателя, 5000+\n",
    "import pandas as pd\n",
    "import random\n",
    "import numpy as np\n",
    "import json\n",
    "from pandas.io.json import json_normalize\n",
    "import openpyxl\n",
    "with open(\"B:\\Учёба\\диплом\\сигнатуры\\Ransomware\\i1.json\") as filename:\n",
    "    dataset_1 = json.load(filename)\n",
    "df_1 = pd.DataFrame.from_dict(json_normalize(dataset_1), orient='columns')\n",
    "with open(\"B:\\Учёба\\диплом\\сигнатуры\\Ransomware\\i2.json\") as filename:\n",
    "    dataset_2 = json.load(filename)\n",
    "df_2 = pd.DataFrame.from_dict(json_normalize(dataset_2), orient='columns')\n",
    "with open(\"B:\\Учёба\\диплом\\сигнатуры\\Ransomware\\i3.json\") as filename:\n",
    "    dataset_3 = json.load(filename)\n",
    "df_3 = pd.DataFrame.from_dict(json_normalize(dataset_3), orient='columns')\n",
    "with open(\"B:\\Учёба\\диплом\\сигнатуры\\Ransomware\\i5.json\") as filename:\n",
    "    dataset_5 = json.load(filename)\n",
    "df_5 = pd.DataFrame.from_dict(json_normalize(dataset_5), orient='columns')\n",
    "with open(\"B:\\Учёба\\диплом\\сигнатуры\\Ransomware\\i6.json\") as filename:\n",
    "    dataset_6 = json.load(filename)\n",
    "df_6 = pd.DataFrame.from_dict(json_normalize(dataset_6), orient='columns')\n",
    "df_4 = pd.read_json(\"B:\\Учёба\\диплом\\сигнатуры\\Ransomware\\i4.json\")\n",
    "df_7 = pd.read_json(\"B:\\Учёба\\диплом\\сигнатуры\\Ransomware\\i7.json\")\n",
    "df_8 = pd.read_json(\"B:\\Учёба\\диплом\\сигнатуры\\Ransomware\\i8.json\")\n",
    "df_9 = pd.read_json(\"B:\\Учёба\\диплом\\сигнатуры\\Ransomware\\i9.json\")"
   ]
  },
  {
   "cell_type": "code",
   "execution_count": 29,
   "id": "8ccdd630",
   "metadata": {},
   "outputs": [
    {
     "data": {
      "text/plain": [
       "array(['00061a18', '0046f028', '00474ec2', ..., 'fe9be8fc', 'ff1c11bd',\n",
       "       'ffe79a46'], dtype='<U32')"
      ]
     },
     "execution_count": 29,
     "metadata": {},
     "output_type": "execute_result"
    }
   ],
   "source": [
    "def preobr(arrs):\n",
    "    arr = np.array([])\n",
    "    arr = [np.append(arr, i.split()) for i in arrs]\n",
    "    return np.unique(np.concatenate([i for i in arr]))\n",
    "spise_1_6 = [df_1.iloc[0:,16:].values[0],df_2.iloc[0:,13:].values[0],df_3.iloc[0:,16:].values[0],df_5.iloc[0:,16:].values[0],df_6.iloc[0:,13:].values[0]]\n",
    "anti_1_6 = [preobr(i) for i in spise_1_6]\n",
    "anti_1_6 = np.concatenate([i for i in anti_1_6])"
   ]
  },
  {
   "cell_type": "code",
   "execution_count": 34,
   "id": "482242e1",
   "metadata": {},
   "outputs": [
    {
     "data": {
      "text/plain": [
       "array(['5d3d7c7d', '4377d60c', '52ed35cb', '00e892ad', 'c2fedee5',\n",
       "       '6f5eba88', '5a113941', '7bf8b705', '03cc0e2f', '03cc0e2f',\n",
       "       '6cac3163', 'a4034582', 'bdefbd1a', '40599225', '2243f908',\n",
       "       '6cac3163', '13688b68', 'ecda49b9', 'f628e50a', '4377d60c',\n",
       "       '6910927f', '6ddcc5a5', 'cfbb8dc8', '9f99ffe4', '4377d60c',\n",
       "       'b020d5d9', 'f8d6ce83', '30a7e13c', '73781381', '06040ddc',\n",
       "       '36674ba5', 'c2fedee5', 'ad4b7bc1', 'd899ba42', '37301772',\n",
       "       '2da89200', '6a8e2694', 'f216a41e', 'fce64821', '6ec8e964',\n",
       "       'cd6bbb0e', '1d071ba2', 'd1e76b1b', '5a113941', '0a9f4124',\n",
       "       '007b2498', '943b07b6', '8ee4b444', '4377d60c', '362bd560',\n",
       "       '7e726a81', 'b9b23500', 'dbee5659', '10fc4023', 'e788ca34',\n",
       "       'e557c1c1', 'cc411e6c', '7a7e8242', '3d801aa5', '6ac673b5',\n",
       "       '6bf9e70a', 'be650220', '3b408c86', '98e83379', '6'], dtype='<U8')"
      ]
     },
     "execution_count": 34,
     "metadata": {},
     "output_type": "execute_result"
    }
   ],
   "source": [
    "def razbien(arrs):\n",
    "    return np.array(arrs[0].split())\n",
    "df_4.iloc[-4:-1,-1:].values[0]\n",
    "spise_4_9 = [df_4.iloc[-4:-1,-1:].values[0],df_7.iloc[16:-1,-1:].values[0],df_8.iloc[-7:-1,-1:].values[0],df_9.iloc[-12:-1,-1].values[0]]\n",
    "anti_4_9 = [razbien(i) for i in spise_4_9]\n",
    "anti_4_9 = np.concatenate([i for i in anti_4_9])\n"
   ]
  },
  {
   "cell_type": "code",
   "execution_count": 35,
   "id": "6c97d812",
   "metadata": {},
   "outputs": [],
   "source": [
    "sigs_rans = np.unique(np.concatenate([anti_1_6,anti_4_9]))\n",
    "df_rans = pd.DataFrame(sigs_rans, columns = ['Ransomware'])\n",
    "with pd.ExcelWriter(\"B:\\Учёба\\диплом\\сигнатуры\\signature.xlsx\", mode='a') as writer:\n",
    "    df_rans.to_excel(writer)"
   ]
  },
  {
   "cell_type": "code",
   "execution_count": null,
   "id": "c8cd728f",
   "metadata": {},
   "outputs": [],
   "source": []
  }
 ],
 "metadata": {
  "kernelspec": {
   "display_name": "Python 3",
   "language": "python",
   "name": "python3"
  },
  "language_info": {
   "codemirror_mode": {
    "name": "ipython",
    "version": 3
   },
   "file_extension": ".py",
   "mimetype": "text/x-python",
   "name": "python",
   "nbconvert_exporter": "python",
   "pygments_lexer": "ipython3",
   "version": "3.9.4"
  }
 },
 "nbformat": 4,
 "nbformat_minor": 5
}
