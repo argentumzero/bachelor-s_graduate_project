{
 "cells": [
  {
   "cell_type": "code",
   "execution_count": 1,
   "id": "d2082613",
   "metadata": {},
   "outputs": [],
   "source": [
    "# нулевой доступ, 100+ сигнатур\n",
    "import pandas as pd\n",
    "import random\n",
    "import numpy as np\n",
    "import openpyxl\n",
    "df_1 = pd.read_json(\"B:\\Учёба\\диплом\\сигнатуры\\ZeroAccess\\z1.json\")\n",
    "df_2 = pd.read_json(\"B:\\Учёба\\диплом\\сигнатуры\\ZeroAccess\\z2.json\")"
   ]
  },
  {
   "cell_type": "code",
   "execution_count": 17,
   "id": "c8408854",
   "metadata": {},
   "outputs": [],
   "source": [
    "def new_sigs(arrs):\n",
    "    new_arrs = np.array(arrs.split())\n",
    "    return new_arrs\n",
    "spise_1_2_v = [df_1.iloc[-4:-3,-1:].values[0][0],df_2.iloc[-4:-3,-1:].values[0][0]]\n",
    "antiv_1_2 = [new_sigs(i) for i in spise_1_2_v]\n",
    "antiv_1_2 = np.concatenate([i for i in antiv_1_2])\n",
    "def new_sigs1(arrs):\n",
    "    new_arrs = np.array(arrs.split())\n",
    "    return new_arrs[random.choices(np.arange(len(new_arrs)), k=20)]\n",
    "spise_1_2_s = [df_1.iloc[-1:,-1:].values[0][0],df_2.iloc[-1:,-1:].values[0][0]]\n",
    "sigs_1_2 = [new_sigs1(i) for i in spise_1_2_s]\n",
    "sigs_1_2 = np.concatenate([i for i in sigs_1_2])\n",
    "zero_sig = np.unique(np.concatenate([antiv_1_2,sigs_1_2]))"
   ]
  },
  {
   "cell_type": "code",
   "execution_count": 19,
   "id": "ee7740e3",
   "metadata": {},
   "outputs": [],
   "source": [
    "df_zero = pd.DataFrame(zero_sig, columns = ['ZeroAccess'])\n",
    "with pd.ExcelWriter(\"B:\\Учёба\\диплом\\сигнатуры\\signature.xlsx\", mode='a') as writer:\n",
    "    df_zero.to_excel(writer)"
   ]
  },
  {
   "cell_type": "code",
   "execution_count": null,
   "id": "244a9e40",
   "metadata": {},
   "outputs": [],
   "source": []
  }
 ],
 "metadata": {
  "kernelspec": {
   "display_name": "Python 3",
   "language": "python",
   "name": "python3"
  },
  "language_info": {
   "codemirror_mode": {
    "name": "ipython",
    "version": 3
   },
   "file_extension": ".py",
   "mimetype": "text/x-python",
   "name": "python",
   "nbconvert_exporter": "python",
   "pygments_lexer": "ipython3",
   "version": "3.9.4"
  }
 },
 "nbformat": 4,
 "nbformat_minor": 5
}
