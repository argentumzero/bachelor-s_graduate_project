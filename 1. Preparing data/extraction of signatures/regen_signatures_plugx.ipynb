{
 "cells": [
  {
   "cell_type": "code",
   "execution_count": 1,
   "id": "aad55f06",
   "metadata": {},
   "outputs": [],
   "source": [
    "# шифровальцик,59 сигнатур\n",
    "import pandas as pd\n",
    "import random\n",
    "import numpy as np\n",
    "import json\n",
    "import openpyxl\n",
    "df_pl1 = pd.read_json(\"B:\\Учёба\\диплом\\сигнатуры\\PlugX\\plugx1.json\")\n",
    "df_pl2 = pd.read_json(\"B:\\Учёба\\диплом\\сигнатуры\\PlugX\\plugx2.json\")"
   ]
  },
  {
   "cell_type": "code",
   "execution_count": 7,
   "id": "1681f1cc",
   "metadata": {},
   "outputs": [
    {
     "data": {
      "text/plain": [
       "array(['a405bc49', '9f22226d', 'eb1ec702', '2059aa6e', 'a5d49106',\n",
       "       '3654f53d', '04292722', 'eb1ec702', '2059aa6e', '18bba495',\n",
       "       'daa85be1', '8f3a6e7d', 'e4787bb1', '3654f53d', 'a650aaef',\n",
       "       '916e7571', '76e954be', '8dbfde60', '767fe8e3', 'a405bc49'],\n",
       "      dtype='<U8')"
      ]
     },
     "execution_count": 7,
     "metadata": {},
     "output_type": "execute_result"
    }
   ],
   "source": [
    "pl1 = df_pl1.iloc[-1:,-1].values\n",
    "arr_pl1 = np.array(pl1[0].split())\n",
    "sigs_pl1 = arr_pl1[random.choices(np.arange(len(arr_pl1)),k=20)]"
   ]
  },
  {
   "cell_type": "code",
   "execution_count": 13,
   "id": "3cee65b1",
   "metadata": {},
   "outputs": [
    {
     "data": {
      "text/plain": [
       "array(['35e4625d', '731fa9a9', '731fa9a9', '93da65a9', '731fa9a9',\n",
       "       '93da65a9', '731fa9a9', '93da65a9', '35e4625d', 'efc50fc9',\n",
       "       '731fa9a9', '93da65a9', '06238034', '06238034', '731fa9a9',\n",
       "       'c88eb837', '731fa9a9', '700cc4bd', '93da65a9', '06238034',\n",
       "       '61c83b6a', '65f292ab', '61c83b6a', 'c0c4f575', 'b9b23500',\n",
       "       '61c83b6a', 'c9f37139', 'c9f37139', '3d701284', 'e4605538',\n",
       "       '099c5d30', '3d701284', '5d3d00b3', 'bf892fe5', 'fa4aba0b',\n",
       "       '834e43f1', '8677ba04', '61c83b6a', '7a6efb85', '46f47bcc',\n",
       "       '61c83b6a', '3616ec8e', 'fefbf6ae', '1dd53177', '1b57875c',\n",
       "       '343a4117', 'e4605538', 'c2799bda', '317a6b52', '64286ebd',\n",
       "       '4c5935c1', '4385e8d7', '61c83b6a', 'ad45cb4a', '39616ff6',\n",
       "       'cb3da4a3', 'fefbf6ae', '9446dad6', 'a9c3f7e0', 'cc97976a',\n",
       "       '4d0c5635', '86ac52df', 'e39a995e', '0d22b76f', '95765ad8',\n",
       "       '1733bf73'], dtype='<U8')"
      ]
     },
     "execution_count": 13,
     "metadata": {},
     "output_type": "execute_result"
    }
   ],
   "source": [
    "pl2_anti = df_pl2.iloc[-3:-2,-1].values\n",
    "pl2_str = df_pl2.iloc[-5:-4,-1].values\n",
    "arr_pl2a = np.array(pl2_anti[0].split())\n",
    "arr_pl2s = np.array(pl2_str[0].split())\n",
    "sigs_pl21 = arr_pl2s[random.choices(np.arange(len(arr_pl2s)),k=20)]\n",
    "sigs_pl2 = np.concatenate([sigs_pl21,arr_pl2a])"
   ]
  },
  {
   "cell_type": "code",
   "execution_count": 14,
   "id": "f9e565da",
   "metadata": {},
   "outputs": [],
   "source": [
    "plugx_signas = np.unique(np.concatenate([sigs_pl1,sigs_pl2]))\n",
    "df_pl = pd.DataFrame(plugx_signas, columns = ['PlugX'])\n",
    "with pd.ExcelWriter(\"B:\\Учёба\\диплом\\сигнатуры\\signature.xlsx\", mode='a') as writer:\n",
    "    df_pl.to_excel(writer)"
   ]
  },
  {
   "cell_type": "code",
   "execution_count": null,
   "id": "5c09e687",
   "metadata": {},
   "outputs": [],
   "source": []
  }
 ],
 "metadata": {
  "kernelspec": {
   "display_name": "Python 3",
   "language": "python",
   "name": "python3"
  },
  "language_info": {
   "codemirror_mode": {
    "name": "ipython",
    "version": 3
   },
   "file_extension": ".py",
   "mimetype": "text/x-python",
   "name": "python",
   "nbconvert_exporter": "python",
   "pygments_lexer": "ipython3",
   "version": "3.9.4"
  }
 },
 "nbformat": 4,
 "nbformat_minor": 5
}
