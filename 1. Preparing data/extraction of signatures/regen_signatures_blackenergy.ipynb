{
 "cells": [
  {
   "cell_type": "code",
   "execution_count": 5,
   "id": "eec5e49f",
   "metadata": {},
   "outputs": [],
   "source": [
    "# остаем сигнатуры выключателя, немного, 200+\n",
    "import numpy as np\n",
    "import pandas as pd\n",
    "import openpyxl\n",
    "import random\n",
    "df_black = pd.read_json(\"B:\\Учёба\\диплом\\сигнатуры\\BLackenergy\\Black_energy.json\")\n",
    "df_anti = np.array((df_black.at['sig_antivirus_virustotal','properties']).split())\n",
    "df_str = np.array((df_black.at['str','properties']).split())\n",
    "indes = random.choices(np.arange(len(df_str)), k=30)\n",
    "df_sigs = np.unique(np.concatenate([df_str[indes], df_anti]))\n",
    "df_be = pd.DataFrame(df_sigs, columns=['BlackEnergy'])\n",
    "with pd.ExcelWriter(\"B:\\Учёба\\диплом\\сигнатуры\\signature.xlsx\", mode='a') as writer:\n",
    "    df_be.to_excel(writer)"
   ]
  },
  {
   "cell_type": "code",
   "execution_count": null,
   "id": "c6b42667",
   "metadata": {},
   "outputs": [],
   "source": []
  }
 ],
 "metadata": {
  "kernelspec": {
   "display_name": "Python 3",
   "language": "python",
   "name": "python3"
  },
  "language_info": {
   "codemirror_mode": {
    "name": "ipython",
    "version": 3
   },
   "file_extension": ".py",
   "mimetype": "text/x-python",
   "name": "python",
   "nbconvert_exporter": "python",
   "pygments_lexer": "ipython3",
   "version": "3.9.4"
  }
 },
 "nbformat": 4,
 "nbformat_minor": 5
}
