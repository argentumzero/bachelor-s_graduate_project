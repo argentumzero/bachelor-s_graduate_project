{
 "cells": [
  {
   "cell_type": "code",
   "execution_count": 117,
   "id": "07963de9",
   "metadata": {},
   "outputs": [],
   "source": [
    "from tensorflow.keras.models import load_model\n",
    "import pandas as pd\n",
    "import numpy as np\n",
    "from openpyxl.workbook import Workbook"
   ]
  },
  {
   "cell_type": "code",
   "execution_count": 22,
   "id": "07d5565a",
   "metadata": {},
   "outputs": [],
   "source": [
    "df_test = pd.read_csv('B:\\Учёба\\диплом\\datasets\\Test_persep.csv')\n",
    "\n",
    "model1 = load_model('perceptron1.h5')\n",
    "model2 = load_model('perceptron2.h5')\n",
    "\n",
    "test = df_test.iloc[:,1:].values\n",
    "\n",
    "predict1 = model1.predict(test)\n",
    "\n",
    "predict2 = model2.predict(test)"
   ]
  },
  {
   "cell_type": "code",
   "execution_count": 29,
   "id": "d1dcbd90",
   "metadata": {},
   "outputs": [],
   "source": [
    "def okrug(arr):\n",
    "    if arr>=0.5:\n",
    "        return 1\n",
    "    else:\n",
    "        return 0\n",
    "viborka1 = np.array([okrug(i) for i in predict1])\n",
    "\n",
    "def okolo(arr):\n",
    "    arr1 = []\n",
    "    for i in arr:\n",
    "        if i>=0.5:\n",
    "            arr1.append(1)\n",
    "        else:\n",
    "            arr1.append(0)\n",
    "    return arr1\n",
    "viborka2 = np.array([np.array(okolo(i)) for i in predict2])\n",
    "\n",
    "def shai(arr):\n",
    "    return arr[0]*2**2+arr[1]*2**1+arr[2]\n",
    "vibor2 = np.array([shai(i) for i in viborka2])"
   ]
  },
  {
   "cell_type": "code",
   "execution_count": 60,
   "id": "824ba6a4",
   "metadata": {},
   "outputs": [],
   "source": [
    "mass = df_test.iloc[:,2:].values\n",
    "\n",
    "indes1 = np.unique(np.where(mass==[1,0,1,1]), return_counts = True)\n",
    "\n",
    "indes2 = np.where(indes1[1]==4)\n",
    "\n",
    "vibor2[indes2[0]] = np.array([5]*len(indes2[0]))\n",
    "vibor1 = np.where(viborka1==1,6,7)\n",
    "vibor = np.concatenate([vibor1,vibor2])"
   ]
  },
  {
   "cell_type": "code",
   "execution_count": 131,
   "id": "97024c7b",
   "metadata": {},
   "outputs": [],
   "source": [
    "df_scenarii = pd.read_csv('B:\\Учёба\\диплом\\datasets\\Scenarii.csv')\n",
    "\n",
    "signalizacia = pd.DataFrame([df_scenarii.iloc[i,1:] for i in vibor])\n",
    "\n",
    "with pd.ExcelWriter('B:\\Учёба\\диплом\\datasets\\Signalizacia.xlsx') as writer:\n",
    "    signalizacia.to_excel(writer)"
   ]
  }
 ],
 "metadata": {
  "kernelspec": {
   "display_name": "Python 3",
   "language": "python",
   "name": "python3"
  },
  "language_info": {
   "codemirror_mode": {
    "name": "ipython",
    "version": 3
   },
   "file_extension": ".py",
   "mimetype": "text/x-python",
   "name": "python",
   "nbconvert_exporter": "python",
   "pygments_lexer": "ipython3",
   "version": "3.9.4"
  }
 },
 "nbformat": 4,
 "nbformat_minor": 5
}
